{
 "cells": [
  {
   "cell_type": "markdown",
   "id": "92654182",
   "metadata": {
    "_cell_guid": "dbcc2d2e-90ab-4ff2-894c-bf9d3de3f533",
    "_uuid": "ff143cea-d75a-483e-bfb5-de938952b500",
    "papermill": {
     "duration": 0.011095,
     "end_time": "2022-10-16T11:00:49.561706",
     "exception": false,
     "start_time": "2022-10-16T11:00:49.550611",
     "status": "completed"
    },
    "tags": []
   },
   "source": [
    "# Model Final Training & Testing"
   ]
  },
  {
   "cell_type": "markdown",
   "id": "88d21c2f",
   "metadata": {
    "_cell_guid": "8ad50e5a-3a81-42f4-b641-589dd2516fd4",
    "_uuid": "e41f6400-3f9f-400f-9120-a5115408d4fb",
    "papermill": {
     "duration": 0.011783,
     "end_time": "2022-10-16T11:00:49.582438",
     "exception": false,
     "start_time": "2022-10-16T11:00:49.570655",
     "status": "completed"
    },
    "tags": []
   },
   "source": [
    "This script is intended to load the clean *Amazon Reviews* training and testing datasets and, with the optimal set of hyperparameters previously found, obtain a definitive model with all training data and assess its quality with the testing data."
   ]
  },
  {
   "cell_type": "code",
   "execution_count": 1,
   "id": "d1d9227d",
   "metadata": {
    "_cell_guid": "b1eaecbe-e3f6-4cf5-8222-2284213bb070",
    "_uuid": "f5b7a89d-c8f1-4e20-a758-d72e8fd667ab",
    "collapsed": false,
    "execution": {
     "iopub.execute_input": "2022-10-16T11:00:49.599662Z",
     "iopub.status.busy": "2022-10-16T11:00:49.599145Z",
     "iopub.status.idle": "2022-10-16T11:00:52.075996Z",
     "shell.execute_reply": "2022-10-16T11:00:52.074968Z"
    },
    "jupyter": {
     "outputs_hidden": false
    },
    "papermill": {
     "duration": 2.487714,
     "end_time": "2022-10-16T11:00:52.078688",
     "exception": false,
     "start_time": "2022-10-16T11:00:49.590974",
     "status": "completed"
    },
    "tags": []
   },
   "outputs": [],
   "source": [
    "# Loading the necessary libraries\n",
    "import numpy as np\n",
    "import pandas as pd\n",
    "import random\n",
    "import torch\n",
    "import torch.nn.functional as F\n",
    "import time\n",
    "import matplotlib.pyplot as plt\n",
    "import pickle\n",
    "import itertools\n",
    "from sklearn.model_selection import train_test_split, KFold, cross_val_score\n",
    "import shutil\n",
    "import os\n",
    "import json"
   ]
  },
  {
   "cell_type": "code",
   "execution_count": 2,
   "id": "5b73be78",
   "metadata": {
    "_cell_guid": "a9d26aad-9254-453d-a035-4a2bf44b281a",
    "_uuid": "518f0309-7d2e-4142-9bcc-efe8c78a9cc7",
    "collapsed": false,
    "execution": {
     "iopub.execute_input": "2022-10-16T11:00:52.095700Z",
     "iopub.status.busy": "2022-10-16T11:00:52.094697Z",
     "iopub.status.idle": "2022-10-16T11:00:52.105344Z",
     "shell.execute_reply": "2022-10-16T11:00:52.104319Z"
    },
    "jupyter": {
     "outputs_hidden": false
    },
    "papermill": {
     "duration": 0.021464,
     "end_time": "2022-10-16T11:00:52.108116",
     "exception": false,
     "start_time": "2022-10-16T11:00:52.086652",
     "status": "completed"
    },
    "tags": []
   },
   "outputs": [
    {
     "data": {
      "text/plain": [
       "<torch._C.Generator at 0x7fe7242e2970>"
      ]
     },
     "execution_count": 2,
     "metadata": {},
     "output_type": "execute_result"
    }
   ],
   "source": [
    "# Init random seed to get reproducible results\n",
    "seed = 1111\n",
    "random.seed(seed)\n",
    "np.random.RandomState(seed)\n",
    "torch.manual_seed(seed)"
   ]
  },
  {
   "cell_type": "markdown",
   "id": "fb0dd069",
   "metadata": {
    "_cell_guid": "5186495b-dac0-43ca-be8a-a4b75c23f711",
    "_uuid": "56c21292-38ec-4c2b-abd3-36768668529a",
    "papermill": {
     "duration": 0.006499,
     "end_time": "2022-10-16T11:00:52.121259",
     "exception": false,
     "start_time": "2022-10-16T11:00:52.114760",
     "status": "completed"
    },
    "tags": []
   },
   "source": [
    "## Data loading"
   ]
  },
  {
   "cell_type": "code",
   "execution_count": 3,
   "id": "121450f9",
   "metadata": {
    "_cell_guid": "d21a29e3-5079-4cdd-8d7f-c8f5098f72c9",
    "_uuid": "7add0e33-1f61-4f6a-9da7-8a2e8ca37d41",
    "collapsed": false,
    "execution": {
     "iopub.execute_input": "2022-10-16T11:00:52.136804Z",
     "iopub.status.busy": "2022-10-16T11:00:52.136546Z",
     "iopub.status.idle": "2022-10-16T11:00:53.635697Z",
     "shell.execute_reply": "2022-10-16T11:00:53.634765Z"
    },
    "jupyter": {
     "outputs_hidden": false
    },
    "papermill": {
     "duration": 1.50995,
     "end_time": "2022-10-16T11:00:53.637831",
     "exception": false,
     "start_time": "2022-10-16T11:00:52.127881",
     "status": "completed"
    },
    "tags": []
   },
   "outputs": [
    {
     "data": {
      "text/html": [
       "<div>\n",
       "<style scoped>\n",
       "    .dataframe tbody tr th:only-of-type {\n",
       "        vertical-align: middle;\n",
       "    }\n",
       "\n",
       "    .dataframe tbody tr th {\n",
       "        vertical-align: top;\n",
       "    }\n",
       "\n",
       "    .dataframe thead th {\n",
       "        text-align: right;\n",
       "    }\n",
       "</style>\n",
       "<table border=\"1\" class=\"dataframe\">\n",
       "  <thead>\n",
       "    <tr style=\"text-align: right;\">\n",
       "      <th></th>\n",
       "      <th>class</th>\n",
       "      <th>review_text</th>\n",
       "    </tr>\n",
       "  </thead>\n",
       "  <tbody>\n",
       "    <tr>\n",
       "      <th>0</th>\n",
       "      <td>2</td>\n",
       "      <td>I got this toy a couple of days ago and I ABSO...</td>\n",
       "    </tr>\n",
       "    <tr>\n",
       "      <th>1</th>\n",
       "      <td>2</td>\n",
       "      <td>Though lyrically the overall feel of this reco...</td>\n",
       "    </tr>\n",
       "    <tr>\n",
       "      <th>2</th>\n",
       "      <td>2</td>\n",
       "      <td>I have been looking for an anthology of outsta...</td>\n",
       "    </tr>\n",
       "    <tr>\n",
       "      <th>3</th>\n",
       "      <td>1</td>\n",
       "      <td>I tried/own both the pink and the orangish col...</td>\n",
       "    </tr>\n",
       "    <tr>\n",
       "      <th>4</th>\n",
       "      <td>2</td>\n",
       "      <td>Good coffee pot. Hot coffee. 6-8 cups makes a ...</td>\n",
       "    </tr>\n",
       "    <tr>\n",
       "      <th>...</th>\n",
       "      <td>...</td>\n",
       "      <td>...</td>\n",
       "    </tr>\n",
       "    <tr>\n",
       "      <th>179995</th>\n",
       "      <td>2</td>\n",
       "      <td>Wow what a helpful book. I was amazed at how a...</td>\n",
       "    </tr>\n",
       "    <tr>\n",
       "      <th>179996</th>\n",
       "      <td>2</td>\n",
       "      <td>This cd is pretty good.Why I give it 4.5 stars...</td>\n",
       "    </tr>\n",
       "    <tr>\n",
       "      <th>179997</th>\n",
       "      <td>2</td>\n",
       "      <td>I was so happy with everything! The delivery w...</td>\n",
       "    </tr>\n",
       "    <tr>\n",
       "      <th>179998</th>\n",
       "      <td>1</td>\n",
       "      <td>Dark shots of limp girls. Wouldn't really know...</td>\n",
       "    </tr>\n",
       "    <tr>\n",
       "      <th>179999</th>\n",
       "      <td>2</td>\n",
       "      <td>I've followed Phil Keaggy's work for many year...</td>\n",
       "    </tr>\n",
       "  </tbody>\n",
       "</table>\n",
       "<p>180000 rows × 2 columns</p>\n",
       "</div>"
      ],
      "text/plain": [
       "        class                                        review_text\n",
       "0           2  I got this toy a couple of days ago and I ABSO...\n",
       "1           2  Though lyrically the overall feel of this reco...\n",
       "2           2  I have been looking for an anthology of outsta...\n",
       "3           1  I tried/own both the pink and the orangish col...\n",
       "4           2  Good coffee pot. Hot coffee. 6-8 cups makes a ...\n",
       "...       ...                                                ...\n",
       "179995      2  Wow what a helpful book. I was amazed at how a...\n",
       "179996      2  This cd is pretty good.Why I give it 4.5 stars...\n",
       "179997      2  I was so happy with everything! The delivery w...\n",
       "179998      1  Dark shots of limp girls. Wouldn't really know...\n",
       "179999      2  I've followed Phil Keaggy's work for many year...\n",
       "\n",
       "[180000 rows x 2 columns]"
      ]
     },
     "execution_count": 3,
     "metadata": {},
     "output_type": "execute_result"
    }
   ],
   "source": [
    "# We preset data types in advance, to save memory\n",
    "dtypes = {\n",
    "        'class' : 'uint8',\n",
    "        'review_text' : 'str'\n",
    "}\n",
    "train_dataset = pd.read_csv(\"../input/taed2-data-preparation/clean_amazon_reviews_train.csv\", dtype=dtypes)\n",
    "train_dataset"
   ]
  },
  {
   "cell_type": "code",
   "execution_count": 4,
   "id": "e154d71a",
   "metadata": {
    "_cell_guid": "eb63e0da-dba7-48e4-a34e-a71efe5e00d4",
    "_uuid": "7efa1fce-6bd0-4f5e-9860-7ab7efc9f871",
    "collapsed": false,
    "execution": {
     "iopub.execute_input": "2022-10-16T11:00:53.653357Z",
     "iopub.status.busy": "2022-10-16T11:00:53.653067Z",
     "iopub.status.idle": "2022-10-16T11:00:53.828471Z",
     "shell.execute_reply": "2022-10-16T11:00:53.827576Z"
    },
    "jupyter": {
     "outputs_hidden": false
    },
    "papermill": {
     "duration": 0.185606,
     "end_time": "2022-10-16T11:00:53.830791",
     "exception": false,
     "start_time": "2022-10-16T11:00:53.645185",
     "status": "completed"
    },
    "tags": []
   },
   "outputs": [
    {
     "data": {
      "text/html": [
       "<div>\n",
       "<style scoped>\n",
       "    .dataframe tbody tr th:only-of-type {\n",
       "        vertical-align: middle;\n",
       "    }\n",
       "\n",
       "    .dataframe tbody tr th {\n",
       "        vertical-align: top;\n",
       "    }\n",
       "\n",
       "    .dataframe thead th {\n",
       "        text-align: right;\n",
       "    }\n",
       "</style>\n",
       "<table border=\"1\" class=\"dataframe\">\n",
       "  <thead>\n",
       "    <tr style=\"text-align: right;\">\n",
       "      <th></th>\n",
       "      <th>class</th>\n",
       "      <th>review_text</th>\n",
       "    </tr>\n",
       "  </thead>\n",
       "  <tbody>\n",
       "    <tr>\n",
       "      <th>0</th>\n",
       "      <td>1</td>\n",
       "      <td>This is a good read for sure, but the problem ...</td>\n",
       "    </tr>\n",
       "    <tr>\n",
       "      <th>1</th>\n",
       "      <td>2</td>\n",
       "      <td>I got this as a gift for my 10 year old nephew...</td>\n",
       "    </tr>\n",
       "    <tr>\n",
       "      <th>2</th>\n",
       "      <td>1</td>\n",
       "      <td>According to the author, if you work hard, you...</td>\n",
       "    </tr>\n",
       "    <tr>\n",
       "      <th>3</th>\n",
       "      <td>1</td>\n",
       "      <td>Rambling and pointless, this overhyped tome se...</td>\n",
       "    </tr>\n",
       "    <tr>\n",
       "      <th>4</th>\n",
       "      <td>2</td>\n",
       "      <td>Having read much about the exploits of Octavia...</td>\n",
       "    </tr>\n",
       "    <tr>\n",
       "      <th>...</th>\n",
       "      <td>...</td>\n",
       "      <td>...</td>\n",
       "    </tr>\n",
       "    <tr>\n",
       "      <th>19995</th>\n",
       "      <td>1</td>\n",
       "      <td>I have had this piece of @#*! for 3 years and ...</td>\n",
       "    </tr>\n",
       "    <tr>\n",
       "      <th>19996</th>\n",
       "      <td>1</td>\n",
       "      <td>This metronome is an excellent buy. The sound ...</td>\n",
       "    </tr>\n",
       "    <tr>\n",
       "      <th>19997</th>\n",
       "      <td>2</td>\n",
       "      <td>I love her books you get to know al the charac...</td>\n",
       "    </tr>\n",
       "    <tr>\n",
       "      <th>19998</th>\n",
       "      <td>1</td>\n",
       "      <td>Trash,absolute trash. Can't you men stand the ...</td>\n",
       "    </tr>\n",
       "    <tr>\n",
       "      <th>19999</th>\n",
       "      <td>1</td>\n",
       "      <td>We bought this for our 4 year old daughter and...</td>\n",
       "    </tr>\n",
       "  </tbody>\n",
       "</table>\n",
       "<p>20000 rows × 2 columns</p>\n",
       "</div>"
      ],
      "text/plain": [
       "       class                                        review_text\n",
       "0          1  This is a good read for sure, but the problem ...\n",
       "1          2  I got this as a gift for my 10 year old nephew...\n",
       "2          1  According to the author, if you work hard, you...\n",
       "3          1  Rambling and pointless, this overhyped tome se...\n",
       "4          2  Having read much about the exploits of Octavia...\n",
       "...      ...                                                ...\n",
       "19995      1  I have had this piece of @#*! for 3 years and ...\n",
       "19996      1  This metronome is an excellent buy. The sound ...\n",
       "19997      2  I love her books you get to know al the charac...\n",
       "19998      1  Trash,absolute trash. Can't you men stand the ...\n",
       "19999      1  We bought this for our 4 year old daughter and...\n",
       "\n",
       "[20000 rows x 2 columns]"
      ]
     },
     "execution_count": 4,
     "metadata": {},
     "output_type": "execute_result"
    }
   ],
   "source": [
    "# We preset data types in advance, to save memory\n",
    "dtypes = {\n",
    "        'class' : 'uint8',\n",
    "        'review_text' : 'str'\n",
    "}\n",
    "test_dataset = pd.read_csv(\"../input/taed2-data-preparation/clean_amazon_reviews_test.csv\", dtype=dtypes)\n",
    "test_dataset"
   ]
  },
  {
   "cell_type": "markdown",
   "id": "65a19148",
   "metadata": {
    "_cell_guid": "64dbaf4b-ebeb-4942-88c8-a6144fec752b",
    "_uuid": "3ba8382c-b3b7-4d26-b693-b9958ad17bfc",
    "papermill": {
     "duration": 0.007118,
     "end_time": "2022-10-16T11:00:53.845274",
     "exception": false,
     "start_time": "2022-10-16T11:00:53.838156",
     "status": "completed"
    },
    "tags": []
   },
   "source": [
    "## Preliminary steps"
   ]
  },
  {
   "cell_type": "code",
   "execution_count": 5,
   "id": "bfddb780",
   "metadata": {
    "_cell_guid": "dbc9f467-3eec-43c5-ac27-1776f8151be0",
    "_uuid": "b5c818f4-1685-4685-8c48-40ce6702254b",
    "collapsed": false,
    "execution": {
     "iopub.execute_input": "2022-10-16T11:00:53.861290Z",
     "iopub.status.busy": "2022-10-16T11:00:53.860997Z",
     "iopub.status.idle": "2022-10-16T11:00:53.867890Z",
     "shell.execute_reply": "2022-10-16T11:00:53.867084Z"
    },
    "jupyter": {
     "outputs_hidden": false
    },
    "papermill": {
     "duration": 0.016947,
     "end_time": "2022-10-16T11:00:53.869885",
     "exception": false,
     "start_time": "2022-10-16T11:00:53.852938",
     "status": "completed"
    },
    "tags": []
   },
   "outputs": [],
   "source": [
    "class Dictionary(object):\n",
    "    def __init__(self):\n",
    "        self.token2idx = {}\n",
    "        self.idx2token = []\n",
    "\n",
    "    def add_token(self, token):\n",
    "        if token not in self.token2idx:\n",
    "            self.idx2token.append(token)\n",
    "            self.token2idx[token] = len(self.idx2token) - 1\n",
    "        return self.token2idx[token]\n",
    "\n",
    "    def __len__(self):\n",
    "        return len(self.idx2token)"
   ]
  },
  {
   "cell_type": "code",
   "execution_count": 6,
   "id": "4acbe9b1",
   "metadata": {
    "_cell_guid": "061b618e-cd2c-4d26-ac9c-21dcd6deb54d",
    "_uuid": "65d802a0-3963-4b31-8fe5-8c6ee7005d3f",
    "collapsed": false,
    "execution": {
     "iopub.execute_input": "2022-10-16T11:00:53.885129Z",
     "iopub.status.busy": "2022-10-16T11:00:53.884869Z",
     "iopub.status.idle": "2022-10-16T11:00:54.952363Z",
     "shell.execute_reply": "2022-10-16T11:00:54.951362Z"
    },
    "jupyter": {
     "outputs_hidden": false
    },
    "papermill": {
     "duration": 1.080028,
     "end_time": "2022-10-16T11:00:54.956935",
     "exception": false,
     "start_time": "2022-10-16T11:00:53.876907",
     "status": "completed"
    },
    "tags": []
   },
   "outputs": [
    {
     "name": "stdout",
     "output_type": "stream",
     "text": [
      "Vocabulary: 139 UTF characters\n",
      "Labels: 2 classes\n"
     ]
    }
   ],
   "source": [
    "char_vocab = Dictionary()\n",
    "pad_token = '<pad>' # reserve index 0 for padding\n",
    "unk_token = '<unk>' # reserve index 1 for unknown token\n",
    "pad_index = char_vocab.add_token(pad_token)\n",
    "unk_index = char_vocab.add_token(unk_token)\n",
    "\n",
    "# join all the training and testing sentences in a single string\n",
    "# and obtain the list of different characters with set\n",
    "chars_train = set(''.join(train_dataset['review_text']))\n",
    "chars_test = set(''.join(test_dataset['review_text']))\n",
    "chars = chars_train.union(chars_test)\n",
    "\n",
    "for char in sorted(chars):\n",
    "    char_vocab.add_token(char)\n",
    "print(\"Vocabulary:\", len(char_vocab), \"UTF characters\")\n",
    "\n",
    "class_vocab = Dictionary()\n",
    "classes = set(train_dataset['class'])\n",
    "for c in sorted(classes):\n",
    "    class_vocab.add_token(c)\n",
    "print(\"Labels:\", len(class_vocab), \"classes\")"
   ]
  },
  {
   "cell_type": "code",
   "execution_count": 7,
   "id": "2892f5dc",
   "metadata": {
    "_cell_guid": "f1d38fc6-f8fb-4c20-be8f-a446da65c3b3",
    "_uuid": "cda218f9-7035-40e5-9389-3a1e05eabdb3",
    "collapsed": false,
    "execution": {
     "iopub.execute_input": "2022-10-16T11:00:54.974636Z",
     "iopub.status.busy": "2022-10-16T11:00:54.974345Z",
     "iopub.status.idle": "2022-10-16T11:01:09.268063Z",
     "shell.execute_reply": "2022-10-16T11:01:09.267068Z"
    },
    "jupyter": {
     "outputs_hidden": false
    },
    "papermill": {
     "duration": 14.305255,
     "end_time": "2022-10-16T11:01:09.270670",
     "exception": false,
     "start_time": "2022-10-16T11:00:54.965415",
     "status": "completed"
    },
    "tags": []
   },
   "outputs": [],
   "source": [
    "#From token or label to index\n",
    "x_train_idx = [np.array([char_vocab.token2idx[c] for c in line]) for line in train_dataset['review_text']]\n",
    "y_train_idx = np.array([class_vocab.token2idx[cl] for cl in train_dataset['class']])\n",
    "\n",
    "x_test_idx = [np.array([char_vocab.token2idx[c] for c in line]) for line in test_dataset['review_text']]"
   ]
  },
  {
   "cell_type": "code",
   "execution_count": 8,
   "id": "54b79107",
   "metadata": {
    "_cell_guid": "0265d842-31eb-4c27-bf79-d67228c2f21d",
    "_uuid": "04b6bd0f-3a8c-4660-be75-5fa3e6791e17",
    "collapsed": false,
    "execution": {
     "iopub.execute_input": "2022-10-16T11:01:09.286961Z",
     "iopub.status.busy": "2022-10-16T11:01:09.286658Z",
     "iopub.status.idle": "2022-10-16T11:01:09.341986Z",
     "shell.execute_reply": "2022-10-16T11:01:09.340796Z"
    },
    "jupyter": {
     "outputs_hidden": false
    },
    "papermill": {
     "duration": 0.066752,
     "end_time": "2022-10-16T11:01:09.345255",
     "exception": false,
     "start_time": "2022-10-16T11:01:09.278503",
     "status": "completed"
    },
    "tags": []
   },
   "outputs": [],
   "source": [
    "train_data = [(x, y) for x, y in zip(x_train_idx, y_train_idx)]\n",
    "test_data = [(x, idx) for idx, x in enumerate(x_test_idx)]"
   ]
  },
  {
   "cell_type": "markdown",
   "id": "368717a3",
   "metadata": {
    "_cell_guid": "7251de7b-45a7-41d7-811d-4720c95e4e07",
    "_uuid": "4aeabc54-baf9-4bb4-a6b8-eb73252de8c2",
    "papermill": {
     "duration": 0.007059,
     "end_time": "2022-10-16T11:01:09.364162",
     "exception": false,
     "start_time": "2022-10-16T11:01:09.357103",
     "status": "completed"
    },
    "tags": []
   },
   "source": [
    "## Model definition"
   ]
  },
  {
   "cell_type": "markdown",
   "id": "955fd616",
   "metadata": {
    "_cell_guid": "b857f02b-7333-4f43-885e-e901828ef992",
    "_uuid": "80f7ede4-066c-4033-8ab7-2fb8bb958cbc",
    "papermill": {
     "duration": 0.006893,
     "end_time": "2022-10-16T11:01:09.378189",
     "exception": false,
     "start_time": "2022-10-16T11:01:09.371296",
     "status": "completed"
    },
    "tags": []
   },
   "source": [
    "The necessary functions for applying a LSTM model are defined next."
   ]
  },
  {
   "cell_type": "code",
   "execution_count": 9,
   "id": "da47ae78",
   "metadata": {
    "_cell_guid": "490f95cb-3be7-4395-acb2-414121234673",
    "_uuid": "ec9e3b9a-dfb1-454f-aec6-c2af2e48db64",
    "collapsed": false,
    "execution": {
     "iopub.execute_input": "2022-10-16T11:01:09.394003Z",
     "iopub.status.busy": "2022-10-16T11:01:09.393683Z",
     "iopub.status.idle": "2022-10-16T11:01:09.401289Z",
     "shell.execute_reply": "2022-10-16T11:01:09.400300Z"
    },
    "jupyter": {
     "outputs_hidden": false
    },
    "papermill": {
     "duration": 0.017493,
     "end_time": "2022-10-16T11:01:09.403190",
     "exception": false,
     "start_time": "2022-10-16T11:01:09.385697",
     "status": "completed"
    },
    "tags": []
   },
   "outputs": [],
   "source": [
    "def batch_generator(data, batch_size, token_size):\n",
    "    \"\"\"Yield elements from data in chunks with a maximum of batch_size sequences and token_size tokens.\"\"\"\n",
    "    minibatch, sequences_so_far, tokens_so_far = [], 0, 0\n",
    "    for ex in data:\n",
    "        seq_len = len(ex[0])\n",
    "        if seq_len > token_size:\n",
    "            ex = (ex[0][:token_size], ex[1])\n",
    "            seq_len = token_size\n",
    "        minibatch.append(ex)\n",
    "        sequences_so_far += 1\n",
    "        tokens_so_far += seq_len\n",
    "        if sequences_so_far == batch_size or tokens_so_far == token_size:\n",
    "            yield minibatch\n",
    "            minibatch, sequences_so_far, tokens_so_far = [], 0, 0\n",
    "        elif sequences_so_far > batch_size or tokens_so_far > token_size:\n",
    "            yield minibatch[:-1]\n",
    "            minibatch, sequences_so_far, tokens_so_far = minibatch[-1:], 1, len(minibatch[-1][0])\n",
    "    if minibatch:\n",
    "        yield minibatch"
   ]
  },
  {
   "cell_type": "code",
   "execution_count": 10,
   "id": "9a6c66de",
   "metadata": {
    "_cell_guid": "c1d9d740-b1f3-49b4-b777-e34e709129f3",
    "_uuid": "b6996d4c-02dc-4e97-a05d-74a5a1cfd130",
    "collapsed": false,
    "execution": {
     "iopub.execute_input": "2022-10-16T11:01:09.419270Z",
     "iopub.status.busy": "2022-10-16T11:01:09.418684Z",
     "iopub.status.idle": "2022-10-16T11:01:09.425524Z",
     "shell.execute_reply": "2022-10-16T11:01:09.424688Z"
    },
    "jupyter": {
     "outputs_hidden": false
    },
    "papermill": {
     "duration": 0.017433,
     "end_time": "2022-10-16T11:01:09.427658",
     "exception": false,
     "start_time": "2022-10-16T11:01:09.410225",
     "status": "completed"
    },
    "tags": []
   },
   "outputs": [],
   "source": [
    "def pool_generator(data, batch_size, token_size, shuffle=False):\n",
    "    \"\"\"Sort within buckets, then batch, then shuffle batches.\n",
    "    Partitions data into chunks of size 100*token_size, sorts examples within\n",
    "    each chunk, then batch these examples and shuffle the batches.\n",
    "    \"\"\"\n",
    "    for p in batch_generator(data, batch_size * 100, token_size * 100):\n",
    "        p_batch = batch_generator(sorted(p, key=lambda t: len(t[0]), reverse=True), batch_size, token_size)\n",
    "        p_list = list(p_batch)\n",
    "        if shuffle:\n",
    "            for b in random.sample(p_list, len(p_list)):\n",
    "                yield b\n",
    "        else:\n",
    "            for b in p_list:\n",
    "                yield b"
   ]
  },
  {
   "cell_type": "code",
   "execution_count": 11,
   "id": "f11b678b",
   "metadata": {
    "_cell_guid": "84862141-b65f-421e-ab69-84a36aa51b2b",
    "_uuid": "dc095b6b-caa8-46e9-a109-b1a1b10d9772",
    "collapsed": false,
    "execution": {
     "iopub.execute_input": "2022-10-16T11:01:09.443898Z",
     "iopub.status.busy": "2022-10-16T11:01:09.443624Z",
     "iopub.status.idle": "2022-10-16T11:01:09.452812Z",
     "shell.execute_reply": "2022-10-16T11:01:09.451801Z"
    },
    "jupyter": {
     "outputs_hidden": false
    },
    "papermill": {
     "duration": 0.019398,
     "end_time": "2022-10-16T11:01:09.454896",
     "exception": false,
     "start_time": "2022-10-16T11:01:09.435498",
     "status": "completed"
    },
    "tags": []
   },
   "outputs": [],
   "source": [
    "class CharRNNClassifier(torch.nn.Module):\n",
    "    \n",
    "    def __init__(self, input_size, embedding_size, hidden_size, output_size, model=\"lstm\", num_layers=2,\n",
    "                 bidirectional=False, pad_idx=0):\n",
    "        super().__init__()\n",
    "        self.model = model.lower()\n",
    "        self.hidden_size = hidden_size\n",
    "        self.embed = torch.nn.Embedding(input_size, embedding_size, padding_idx=pad_idx)\n",
    "        if self.model == \"gru\":\n",
    "            self.rnn = torch.nn.GRU(embedding_size, hidden_size, num_layers, bidirectional=bidirectional)\n",
    "        elif self.model == \"lstm\":\n",
    "            self.rnn = torch.nn.LSTM(embedding_size, hidden_size, num_layers, bidirectional=bidirectional)\n",
    "        self.h2o = torch.nn.Linear(hidden_size, output_size)\n",
    "        \n",
    "    def forward(self, input, input_lengths):\n",
    "        encoded = self.embed(input)\n",
    "        packed = torch.nn.utils.rnn.pack_padded_sequence(encoded, input_lengths)\n",
    "        output, _ = self.rnn(packed)\n",
    "        padded_mean, _ = torch.nn.utils.rnn.pad_packed_sequence(output, padding_value=0.0)\n",
    "        padded_max, _ = torch.nn.utils.rnn.pad_packed_sequence(output, padding_value=float('-inf'))\n",
    "        max_layer, _ = padded_max.max(dim=0)\n",
    "        mean_layer = padded_mean.mean(dim=0)\n",
    "        output = max_layer + mean_layer\n",
    "        output = self.h2o(output)\n",
    "        return output"
   ]
  },
  {
   "cell_type": "code",
   "execution_count": 12,
   "id": "98a67ef3",
   "metadata": {
    "_cell_guid": "dad9cb1d-63f5-42bd-b717-d4c196c2f530",
    "_uuid": "fc60e574-43b2-4d8a-af18-0778030eeadb",
    "collapsed": false,
    "execution": {
     "iopub.execute_input": "2022-10-16T11:01:09.471063Z",
     "iopub.status.busy": "2022-10-16T11:01:09.470234Z",
     "iopub.status.idle": "2022-10-16T11:01:09.534474Z",
     "shell.execute_reply": "2022-10-16T11:01:09.533611Z"
    },
    "jupyter": {
     "outputs_hidden": false
    },
    "papermill": {
     "duration": 0.074237,
     "end_time": "2022-10-16T11:01:09.536456",
     "exception": false,
     "start_time": "2022-10-16T11:01:09.462219",
     "status": "completed"
    },
    "tags": []
   },
   "outputs": [],
   "source": [
    "if not torch.cuda.is_available():\n",
    "    print(\"WARNING: CUDA is not available. Select 'GPU On' on kernel settings\")\n",
    "device = torch.device(\"cuda\")\n",
    "torch.cuda.manual_seed(seed)"
   ]
  },
  {
   "cell_type": "code",
   "execution_count": 13,
   "id": "b2ef5946",
   "metadata": {
    "_cell_guid": "ad4a0e16-da87-4b31-8033-f2ec77751d75",
    "_uuid": "9d60101a-84f7-489e-b25a-9427bbaf1889",
    "collapsed": false,
    "execution": {
     "iopub.execute_input": "2022-10-16T11:01:09.552634Z",
     "iopub.status.busy": "2022-10-16T11:01:09.551760Z",
     "iopub.status.idle": "2022-10-16T11:01:09.556333Z",
     "shell.execute_reply": "2022-10-16T11:01:09.555497Z"
    },
    "jupyter": {
     "outputs_hidden": false
    },
    "papermill": {
     "duration": 0.01449,
     "end_time": "2022-10-16T11:01:09.558254",
     "exception": false,
     "start_time": "2022-10-16T11:01:09.543764",
     "status": "completed"
    },
    "tags": []
   },
   "outputs": [],
   "source": [
    "criterion = torch.nn.CrossEntropyLoss(reduction='sum')"
   ]
  },
  {
   "cell_type": "code",
   "execution_count": 14,
   "id": "5ff40378",
   "metadata": {
    "_cell_guid": "d2163b19-8d4f-4874-9e3b-b1089a004ee9",
    "_uuid": "9eb71235-21bb-46f5-ba58-47d8fde624d0",
    "collapsed": false,
    "execution": {
     "iopub.execute_input": "2022-10-16T11:01:09.573984Z",
     "iopub.status.busy": "2022-10-16T11:01:09.573262Z",
     "iopub.status.idle": "2022-10-16T11:01:09.582523Z",
     "shell.execute_reply": "2022-10-16T11:01:09.581679Z"
    },
    "jupyter": {
     "outputs_hidden": false
    },
    "papermill": {
     "duration": 0.019111,
     "end_time": "2022-10-16T11:01:09.584495",
     "exception": false,
     "start_time": "2022-10-16T11:01:09.565384",
     "status": "completed"
    },
    "tags": []
   },
   "outputs": [],
   "source": [
    "def train(model, optimizer, data, batch_size, token_size, max_norm, log=False):\n",
    "    model.train()\n",
    "    total_loss = ncorrect = nsentences = ntokens = niterations = 0\n",
    "    \n",
    "    for batch in pool_generator(data, batch_size, token_size, shuffle=True):\n",
    "        X = [torch.from_numpy(d[0]) for d in batch]\n",
    "        X_lengths = [x.numel() for x in X]\n",
    "        ntokens += sum(X_lengths)\n",
    "        X_lengths = torch.tensor(X_lengths, dtype=torch.long)\n",
    "        y = torch.tensor([d[1] for d in batch], dtype=torch.long, device=device)\n",
    "        X = torch.nn.utils.rnn.pad_sequence(X).to(device)\n",
    "        model.zero_grad()\n",
    "        output = model(X, X_lengths)\n",
    "        loss = criterion(output, y)\n",
    "        loss.backward()\n",
    "        torch.nn.utils.clip_grad_norm_(model.parameters(), max_norm)\n",
    "        optimizer.step()\n",
    "        total_loss += loss.item()\n",
    "        ncorrect += (torch.max(output, 1)[1] == y).sum().item()\n",
    "        nsentences += y.numel()\n",
    "        niterations += 1\n",
    "\n",
    "    total_loss = total_loss / nsentences\n",
    "    accuracy = 100 * ncorrect / nsentences\n",
    "    if log:\n",
    "        print(f'Train: wpb={ntokens//niterations}, bsz={nsentences//niterations}, num_updates={niterations}')\n",
    "    return accuracy"
   ]
  },
  {
   "cell_type": "code",
   "execution_count": 15,
   "id": "58950551",
   "metadata": {
    "_cell_guid": "ce24c635-1d38-4224-a0f0-7b10b126d75e",
    "_uuid": "fd72c358-467c-4e7b-b142-216b0dd9e97a",
    "collapsed": false,
    "execution": {
     "iopub.execute_input": "2022-10-16T11:01:09.600073Z",
     "iopub.status.busy": "2022-10-16T11:01:09.599444Z",
     "iopub.status.idle": "2022-10-16T11:01:09.605008Z",
     "shell.execute_reply": "2022-10-16T11:01:09.604224Z"
    },
    "jupyter": {
     "outputs_hidden": false
    },
    "papermill": {
     "duration": 0.015335,
     "end_time": "2022-10-16T11:01:09.606926",
     "exception": false,
     "start_time": "2022-10-16T11:01:09.591591",
     "status": "completed"
    },
    "tags": []
   },
   "outputs": [],
   "source": [
    "def get_model():\n",
    "    model = CharRNNClassifier(ntokens, embedding_size, hidden_size, nlabels, bidirectional=bidirectional, pad_idx=pad_index).to(device)\n",
    "    optimizer = torch.optim.Adam(model.parameters())\n",
    "    return model, optimizer"
   ]
  },
  {
   "cell_type": "markdown",
   "id": "70987ab1",
   "metadata": {
    "_cell_guid": "3fbf7dd1-8407-45aa-8372-aedd84315edd",
    "_uuid": "b9de1c59-936d-4228-890e-4913a5c2ac44",
    "papermill": {
     "duration": 0.006891,
     "end_time": "2022-10-16T11:01:09.620821",
     "exception": false,
     "start_time": "2022-10-16T11:01:09.613930",
     "status": "completed"
    },
    "tags": []
   },
   "source": [
    "## Training the final model"
   ]
  },
  {
   "cell_type": "code",
   "execution_count": 16,
   "id": "5ec2c648",
   "metadata": {
    "_cell_guid": "913ae686-684e-42ad-bf83-e7d2d2fab1b1",
    "_uuid": "64f11577-8c8f-4725-99a6-21c3add314ce",
    "collapsed": false,
    "execution": {
     "iopub.execute_input": "2022-10-16T11:01:09.636609Z",
     "iopub.status.busy": "2022-10-16T11:01:09.636354Z",
     "iopub.status.idle": "2022-10-16T11:01:09.640922Z",
     "shell.execute_reply": "2022-10-16T11:01:09.639965Z"
    },
    "jupyter": {
     "outputs_hidden": false
    },
    "papermill": {
     "duration": 0.014773,
     "end_time": "2022-10-16T11:01:09.642856",
     "exception": false,
     "start_time": "2022-10-16T11:01:09.628083",
     "status": "completed"
    },
    "tags": []
   },
   "outputs": [],
   "source": [
    "# Definition of hyperparameter values (the optimal ones, according to the experiments)\n",
    "hidden_size = 256\n",
    "embedding_size = 32\n",
    "bidirectional = False\n",
    "batch_size = 32\n",
    "token_size = 100000\n",
    "epochs = 4\n",
    "max_norm = 1\n",
    "\n",
    "ntokens = len(char_vocab)\n",
    "nlabels = len(class_vocab)"
   ]
  },
  {
   "cell_type": "markdown",
   "id": "79d763a9",
   "metadata": {
    "_cell_guid": "e6fe74ad-8a36-4685-89f8-b2a95e18932c",
    "_uuid": "173ab4ca-9242-4d52-b702-bfe3241f0667",
    "papermill": {
     "duration": 0.006864,
     "end_time": "2022-10-16T11:01:09.656899",
     "exception": false,
     "start_time": "2022-10-16T11:01:09.650035",
     "status": "completed"
    },
    "tags": []
   },
   "source": [
    "**Training loop**"
   ]
  },
  {
   "cell_type": "code",
   "execution_count": 17,
   "id": "2e6ea6d2",
   "metadata": {
    "execution": {
     "iopub.execute_input": "2022-10-16T11:01:09.672514Z",
     "iopub.status.busy": "2022-10-16T11:01:09.671734Z",
     "iopub.status.idle": "2022-10-16T11:22:06.682399Z",
     "shell.execute_reply": "2022-10-16T11:22:06.681420Z"
    },
    "papermill": {
     "duration": 1257.026723,
     "end_time": "2022-10-16T11:22:06.690669",
     "exception": false,
     "start_time": "2022-10-16T11:01:09.663946",
     "status": "completed"
    },
    "tags": []
   },
   "outputs": [
    {
     "name": "stdout",
     "output_type": "stream",
     "text": [
      "Training the final model with all training data\n",
      "Train: wpb=12970, bsz=32, num_updates=5625\n",
      "| epoch 001 | train accuracy=80.5% (313s)\n",
      "| epoch 002 | train accuracy=88.9% (627s)\n",
      "| epoch 003 | train accuracy=91.0% (940s)\n",
      "| epoch 004 | train accuracy=92.4% (1253s)\n"
     ]
    },
    {
     "data": {
      "image/png": "[encoded data removed]",
      "text/plain": [
       "<Figure size 432x288 with 1 Axes>"
      ]
     },
     "metadata": {
      "needs_background": "light"
     },
     "output_type": "display_data"
    }
   ],
   "source": [
    "train_accuracy = []\n",
    "model, optimizer = get_model()\n",
    "print(f'Training the final model with all training data')\n",
    "t0 = time.time()\n",
    "for epoch in range(1, epochs + 1):\n",
    "    acc = train(model, optimizer, train_data, batch_size, token_size, max_norm, log=epoch==1)\n",
    "    train_accuracy.append(acc)\n",
    "    print(f'| epoch {epoch:03d} | train accuracy={acc:.1f}% ({time.time() - t0:.0f}s)')\n",
    "\n",
    "plt.plot(range(1, len(train_accuracy)+1), train_accuracy, label = \"Final model\")\n",
    "plt.xlabel('Epoch')\n",
    "plt.ylabel('Accuracy')\n",
    "plt.title('Evolution of the model accuracy by epochs')\n",
    "plt.show()"
   ]
  },
  {
   "cell_type": "markdown",
   "id": "fcd67d0e",
   "metadata": {
    "papermill": {
     "duration": 0.00743,
     "end_time": "2022-10-16T11:22:06.705997",
     "exception": false,
     "start_time": "2022-10-16T11:22:06.698567",
     "status": "completed"
    },
    "tags": []
   },
   "source": [
    "## Testing the final model"
   ]
  },
  {
   "cell_type": "code",
   "execution_count": 18,
   "id": "1c05609b",
   "metadata": {
    "execution": {
     "iopub.execute_input": "2022-10-16T11:22:06.722510Z",
     "iopub.status.busy": "2022-10-16T11:22:06.722209Z",
     "iopub.status.idle": "2022-10-16T11:22:06.728280Z",
     "shell.execute_reply": "2022-10-16T11:22:06.727404Z"
    },
    "papermill": {
     "duration": 0.016782,
     "end_time": "2022-10-16T11:22:06.730291",
     "exception": false,
     "start_time": "2022-10-16T11:22:06.713509",
     "status": "completed"
    },
    "tags": []
   },
   "outputs": [
    {
     "data": {
      "text/plain": [
       "CharRNNClassifier(\n",
       "  (embed): Embedding(139, 32, padding_idx=0)\n",
       "  (rnn): LSTM(32, 256, num_layers=2)\n",
       "  (h2o): Linear(in_features=256, out_features=2, bias=True)\n",
       ")"
      ]
     },
     "execution_count": 18,
     "metadata": {},
     "output_type": "execute_result"
    }
   ],
   "source": [
    "model"
   ]
  },
  {
   "cell_type": "code",
   "execution_count": 19,
   "id": "430df861",
   "metadata": {
    "execution": {
     "iopub.execute_input": "2022-10-16T11:22:06.747681Z",
     "iopub.status.busy": "2022-10-16T11:22:06.746339Z",
     "iopub.status.idle": "2022-10-16T11:22:06.754922Z",
     "shell.execute_reply": "2022-10-16T11:22:06.754100Z"
    },
    "papermill": {
     "duration": 0.01875,
     "end_time": "2022-10-16T11:22:06.756713",
     "exception": false,
     "start_time": "2022-10-16T11:22:06.737963",
     "status": "completed"
    },
    "tags": []
   },
   "outputs": [],
   "source": [
    "def test(model, data, batch_size, token_size):\n",
    "    model.eval()\n",
    "    sindex = []\n",
    "    labels = []\n",
    "    with torch.no_grad():\n",
    "        for batch in pool_generator(data, batch_size, token_size):\n",
    "            # Get input sequences from batch\n",
    "            X = [torch.from_numpy(d[0]) for d in batch]\n",
    "            X_lengths = torch.tensor([x.numel() for x in X], dtype=torch.long)\n",
    "            # Pad the input sequences to create a matrix\n",
    "            X = torch.nn.utils.rnn.pad_sequence(X).to(device)\n",
    "            answer = model(X, X_lengths)\n",
    "            label = torch.max(answer, 1)[1].cpu().numpy()\n",
    "            # Save labels and sentences index\n",
    "            labels.append(label)\n",
    "            sindex += [d[1] for d in batch]\n",
    "            \n",
    "    index = np.array(sindex)\n",
    "    labels = np.concatenate(labels)\n",
    "    order = np.argsort(index)\n",
    "    labels = labels[order]\n",
    "    labels = [l+1 for l in labels]\n",
    "    testing_accuracy = sum(x == y for x, y in zip(test_dataset['class'], labels)) / len(labels)\n",
    "    \n",
    "    return labels, testing_accuracy"
   ]
  },
  {
   "cell_type": "code",
   "execution_count": 20,
   "id": "66faa1ab",
   "metadata": {
    "execution": {
     "iopub.execute_input": "2022-10-16T11:22:06.774176Z",
     "iopub.status.busy": "2022-10-16T11:22:06.772801Z",
     "iopub.status.idle": "2022-10-16T11:22:18.332940Z",
     "shell.execute_reply": "2022-10-16T11:22:18.331879Z"
    },
    "papermill": {
     "duration": 11.570874,
     "end_time": "2022-10-16T11:22:18.335292",
     "exception": false,
     "start_time": "2022-10-16T11:22:06.764418",
     "status": "completed"
    },
    "tags": []
   },
   "outputs": [],
   "source": [
    "labels, testing_accuracy = test(model, test_data, batch_size, token_size)"
   ]
  },
  {
   "cell_type": "code",
   "execution_count": 21,
   "id": "652aefea",
   "metadata": {
    "execution": {
     "iopub.execute_input": "2022-10-16T11:22:18.363075Z",
     "iopub.status.busy": "2022-10-16T11:22:18.362543Z",
     "iopub.status.idle": "2022-10-16T11:22:18.377302Z",
     "shell.execute_reply": "2022-10-16T11:22:18.376324Z"
    },
    "papermill": {
     "duration": 0.03424,
     "end_time": "2022-10-16T11:22:18.379879",
     "exception": false,
     "start_time": "2022-10-16T11:22:18.345639",
     "status": "completed"
    },
    "tags": []
   },
   "outputs": [
    {
     "name": "stdout",
     "output_type": "stream",
     "text": [
      "Test accuracy: 0.9069 \n",
      "\n",
      "Printing some examples: \n",
      "\n",
      "Input: This is a good read for sure, but the problem I have with this book is Mr. Frey has no problem discounting a higher power/God, etc. and is willing to throw the Bible in the trash with used Q-Tips and used tissues, but he is eager and willing to take advice from Leonard - a cold-blooded, vengful killer, as well as adopt Leonard's catch phrase, \"Just Hold On\". Good advise for sure - I even saw a young man on the Oprah show tattoo this phrase on his arm. Good advise or not, the fact that this is where his inspiration is found says a lot about the author. I wish him well and I hope he continues his life of sobriety and continues to help others...whatever works I guess?\n",
      "Ground Truth: 1\n",
      "Prediction: 2 \n",
      "\n",
      "Input: I got this as a gift for my 10 year old nephew who loves to go fishing. He needed some help getting the hooks out of the fish and this works great with his little hands. It fits nicely in his tackle box and the wood grain makes it look really nice. I am sure he will out grow it or end up dropping it in the lake but for the price i can afford to buy him another one later.\n",
      "Ground Truth: 2\n",
      "Prediction: 2 \n",
      "\n",
      "Input: According to the author, if you work hard, you are \"struggling\". And if you don't work hard, you will succeed. But you will need \"success partners\".The rest of the book, the author tells us how he got visions and revelations while skydiving, mountain climbing, mountain biking and bungee jumping. Does that mean that a person who is physicaly handicapped can never achieve extreme success?????I got this book in the bargain bin for $1.99. And there are a lot more copies... makes you wonder, doesn't it??? Before you trash this review... ask yourself... which part of what I wrote isn't true????? Leave this PoS on the shelf!!!\n",
      "Ground Truth: 1\n",
      "Prediction: 1 \n",
      "\n",
      "Input: Rambling and pointless, this overhyped tome seems the product of a relentlessly clever sophomore. Imagine Nicholson Baker without the painstaking eye, David Foster Wallace without the searching intellect, or Rick Moody without the verbal talent. There's nothing here that Monty Python didn't do in the credits to their Holy Grail. There's not a belly laugh in the whole damn book. ( ).\n",
      "Ground Truth: 1\n",
      "Prediction: 1 \n",
      "\n",
      "Input: Having read much about the exploits of Octavianus from the standard classical and contemporary commentators, this biography by Anthony Everitt stands out as not only thorough, but so well written as to make it engaging to read, something which one cannot easily say about Suetonius or Plutarch! Everitt compiles the writings of these ancient sources, but also intersperses the biography with interesting contextual and archaeological information. In instances where sources contradict or seem far fetched, Everitt shows remarkable temperance - he often comments on what he may think have been the case, but gives you all the information so as to formulate your own opinion as well. Because of this, it is a very welcoming, accessible and highly detailed biography. Before you read anything else about Augustus, read this first!\n",
      "Ground Truth: 2\n",
      "Prediction: 2 \n",
      "\n",
      "Input: Wow . . . what was that all about? True for any artistic work . . . it depends on the person experiencing it. For those whose life is absent of adventure, The Beach is a well written collage of action, suspense, and conflict, serving as a motivator to go and experience life. For those who seek the never ending peace, tranquility and joy that Paradise offers, it is hopeful, and in some instances validated our notion of what Paradise must be like (in the early part of the book at least). For those whose pessimism looms in the forefront of their conciseness, it's predictable, but well written., The Beach is creatively written and filled with symbolism. It is bound to strike a cord with almost anyone who reads the book. Lesson learned . . . Paradise is a perfectly beautiful place and can only stay that way if mortal man never discovers it.\n",
      "Ground Truth: 2\n",
      "Prediction: 2 \n",
      "\n",
      "Input: We really love this toy. My baby love how soft it is and all of the fun songs. The only thing I don't like is the on/off switch is too sensitive.\n",
      "Ground Truth: 2\n",
      "Prediction: 2 \n",
      "\n",
      "Input: I tried this system out with Sonic Adventure. The graphics were awesome. I tried NHL 2K, the graphics were good. But if you are going to buy one now, save a extra ...($$$) and buy Gamecube in november\n",
      "Ground Truth: 2\n",
      "Prediction: 2 \n",
      "\n",
      "Input: Excellent book! In very good condition. I just feel the diet and lifestyle protocol is too ritualistic and not realistic to modern American culture. The premise and insights into the different body types and connecting with the deeper self is outstanding.\n",
      "Ground Truth: 2\n",
      "Prediction: 2 \n",
      "\n",
      "Input: An excellent look at the positives and (many) negatives associated with an elitist dictatorial society. Ironically, while many argue that Plato was calling for just such a utopia, a strong argument can be made that Plato was in fact pointing out the weakenesses with just such a creation. Plato's allegory of the cave is, perhaps, the most eye opening part of the text.\n",
      "Ground Truth: 2\n",
      "Prediction: 2 \n",
      "\n"
     ]
    }
   ],
   "source": [
    "print(\"Test accuracy:\", testing_accuracy, '\\n')\n",
    "print(\"Printing some examples:\", '\\n')\n",
    "\n",
    "for i in range(10):\n",
    "    print(\"Input:\", test_dataset['review_text'][i])\n",
    "    print(\"Ground Truth:\", test_dataset['class'][i])\n",
    "    print(\"Prediction:\", labels[i], '\\n')"
   ]
  },
  {
   "cell_type": "code",
   "execution_count": 22,
   "id": "47232f77",
   "metadata": {
    "execution": {
     "iopub.execute_input": "2022-10-16T11:22:18.422257Z",
     "iopub.status.busy": "2022-10-16T11:22:18.421798Z",
     "iopub.status.idle": "2022-10-16T11:22:18.439789Z",
     "shell.execute_reply": "2022-10-16T11:22:18.438683Z"
    },
    "papermill": {
     "duration": 0.046708,
     "end_time": "2022-10-16T11:22:18.442507",
     "exception": false,
     "start_time": "2022-10-16T11:22:18.395799",
     "status": "completed"
    },
    "tags": []
   },
   "outputs": [],
   "source": [
    "torch.save(model.state_dict(), \"model.pt\")"
   ]
  },
  {
   "cell_type": "markdown",
   "id": "9e6e5659",
   "metadata": {
    "papermill": {
     "duration": 0.013016,
     "end_time": "2022-10-16T11:22:18.480709",
     "exception": false,
     "start_time": "2022-10-16T11:22:18.467693",
     "status": "completed"
    },
    "tags": []
   },
   "source": [
    "With the command above, the final trained model (in fact, its parameters set) has been saved."
   ]
  },
  {
   "cell_type": "markdown",
   "id": "a7c06b9b",
   "metadata": {
    "papermill": {
     "duration": 0.011934,
     "end_time": "2022-10-16T11:22:18.505733",
     "exception": false,
     "start_time": "2022-10-16T11:22:18.493799",
     "status": "completed"
    },
    "tags": []
   },
   "source": [
    "Now, we can load it wherever and whenever we want to compute as many predictions as desired."
   ]
  },
  {
   "cell_type": "markdown",
   "id": "f30e8ee7",
   "metadata": {
    "papermill": {
     "duration": 0.011361,
     "end_time": "2022-10-16T11:22:18.529269",
     "exception": false,
     "start_time": "2022-10-16T11:22:18.517908",
     "status": "completed"
    },
    "tags": []
   },
   "source": [
    "The end."
   ]
  }
 ],
 "metadata": {
  "kernelspec": {
   "display_name": "Python 3",
   "language": "python",
   "name": "python3"
  },
  "language_info": {
   "codemirror_mode": {
    "name": "ipython",
    "version": 3
   },
   "file_extension": ".py",
   "mimetype": "text/x-python",
   "name": "python",
   "nbconvert_exporter": "python",
   "pygments_lexer": "ipython3",
   "version": "3.7.12"
  },
  "papermill": {
   "default_parameters": {},
   "duration": 1299.114136,
   "end_time": "2022-10-16T11:22:20.805046",
   "environment_variables": {},
   "exception": null,
   "input_path": "__notebook__.ipynb",
   "output_path": "__notebook__.ipynb",
   "parameters": {},
   "start_time": "2022-10-16T11:00:41.690910",
   "version": "2.3.4"
  }
 },
 "nbformat": 4,
 "nbformat_minor": 5
}
