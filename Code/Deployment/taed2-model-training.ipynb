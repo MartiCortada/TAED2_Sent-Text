{
 "cells": [
  {
   "cell_type": "markdown",
   "id": "e14f2688",
   "metadata": {
    "papermill": {
     "duration": 0.008147,
     "end_time": "2022-09-24T18:00:39.920994",
     "exception": false,
     "start_time": "2022-09-24T18:00:39.912847",
     "status": "completed"
    },
    "tags": []
   },
   "source": [
    "# Model Training"
   ]
  },
  {
   "cell_type": "markdown",
   "id": "cb3ce260",
   "metadata": {
    "papermill": {
     "duration": 0.006567,
     "end_time": "2022-09-24T18:00:39.934522",
     "exception": false,
     "start_time": "2022-09-24T18:00:39.927955",
     "status": "completed"
    },
    "tags": []
   },
   "source": [
    "This script is intended to load the clean *Amazon Reviews* training and testing datasets and use them to find the most suitable LSTM model to predict the class (1=negative, 2=positive) corresponding to each review in Amazon."
   ]
  },
  {
   "cell_type": "code",
   "execution_count": 1,
   "id": "ffc718ea",
   "metadata": {
    "execution": {
     "iopub.execute_input": "2022-09-24T18:00:39.950081Z",
     "iopub.status.busy": "2022-09-24T18:00:39.949340Z",
     "iopub.status.idle": "2022-09-24T18:00:42.356524Z",
     "shell.execute_reply": "2022-09-24T18:00:42.355548Z"
    },
    "papermill": {
     "duration": 2.418074,
     "end_time": "2022-09-24T18:00:42.359321",
     "exception": false,
     "start_time": "2022-09-24T18:00:39.941247",
     "status": "completed"
    },
    "tags": []
   },
   "outputs": [
    {
     "data": {
      "text/plain": [
       "<torch._C.Generator at 0x7f8e74039950>"
      ]
     },
     "execution_count": 1,
     "metadata": {},
     "output_type": "execute_result"
    }
   ],
   "source": [
    "# Loading the necessary libraries\n",
    "import numpy as np\n",
    "import pandas as pd\n",
    "import random\n",
    "import torch\n",
    "import torch.nn.functional as F\n",
    "import time\n",
    "import matplotlib.pyplot as plt\n",
    "import pickle\n",
    "from sklearn.model_selection import train_test_split, KFold, cross_val_score\n",
    "\n",
    "\n",
    "#Init random seed to get reproducible results\n",
    "seed = 1111\n",
    "random.seed(seed)\n",
    "np.random.RandomState(seed)\n",
    "torch.manual_seed(seed)"
   ]
  },
  {
   "cell_type": "markdown",
   "id": "e76ce407",
   "metadata": {
    "papermill": {
     "duration": 0.007077,
     "end_time": "2022-09-24T18:00:42.373692",
     "exception": false,
     "start_time": "2022-09-24T18:00:42.366615",
     "status": "completed"
    },
    "tags": []
   },
   "source": [
    "## Data loading"
   ]
  },
  {
   "cell_type": "code",
   "execution_count": 2,
   "id": "0bcd63db",
   "metadata": {
    "execution": {
     "iopub.execute_input": "2022-09-24T18:00:42.389991Z",
     "iopub.status.busy": "2022-09-24T18:00:42.388188Z",
     "iopub.status.idle": "2022-09-24T18:00:49.952150Z",
     "shell.execute_reply": "2022-09-24T18:00:49.951214Z"
    },
    "papermill": {
     "duration": 7.573898,
     "end_time": "2022-09-24T18:00:49.954421",
     "exception": false,
     "start_time": "2022-09-24T18:00:42.380523",
     "status": "completed"
    },
    "tags": []
   },
   "outputs": [
    {
     "data": {
      "text/html": [
       "<div>\n",
       "<style scoped>\n",
       "    .dataframe tbody tr th:only-of-type {\n",
       "        vertical-align: middle;\n",
       "    }\n",
       "\n",
       "    .dataframe tbody tr th {\n",
       "        vertical-align: top;\n",
       "    }\n",
       "\n",
       "    .dataframe thead th {\n",
       "        text-align: right;\n",
       "    }\n",
       "</style>\n",
       "<table border=\"1\" class=\"dataframe\">\n",
       "  <thead>\n",
       "    <tr style=\"text-align: right;\">\n",
       "      <th></th>\n",
       "      <th>class</th>\n",
       "      <th>review_text</th>\n",
       "    </tr>\n",
       "  </thead>\n",
       "  <tbody>\n",
       "    <tr>\n",
       "      <th>0</th>\n",
       "      <td>2</td>\n",
       "      <td>I got this toy a couple of days ago and I ABSO...</td>\n",
       "    </tr>\n",
       "    <tr>\n",
       "      <th>1</th>\n",
       "      <td>2</td>\n",
       "      <td>Though lyrically the overall feel of this reco...</td>\n",
       "    </tr>\n",
       "    <tr>\n",
       "      <th>2</th>\n",
       "      <td>2</td>\n",
       "      <td>I have been looking for an anthology of outsta...</td>\n",
       "    </tr>\n",
       "    <tr>\n",
       "      <th>3</th>\n",
       "      <td>1</td>\n",
       "      <td>I tried/own both the pink and the orangish col...</td>\n",
       "    </tr>\n",
       "    <tr>\n",
       "      <th>4</th>\n",
       "      <td>2</td>\n",
       "      <td>Good coffee pot. Hot coffee. 6-8 cups makes a ...</td>\n",
       "    </tr>\n",
       "    <tr>\n",
       "      <th>...</th>\n",
       "      <td>...</td>\n",
       "      <td>...</td>\n",
       "    </tr>\n",
       "    <tr>\n",
       "      <th>899995</th>\n",
       "      <td>1</td>\n",
       "      <td>Innocents, by Cathy Coote, is really a dreadfu...</td>\n",
       "    </tr>\n",
       "    <tr>\n",
       "      <th>899996</th>\n",
       "      <td>2</td>\n",
       "      <td>Nena really gives us a top-notch album with th...</td>\n",
       "    </tr>\n",
       "    <tr>\n",
       "      <th>899997</th>\n",
       "      <td>2</td>\n",
       "      <td>Being a humongous Kasey Chambers fan, I hunker...</td>\n",
       "    </tr>\n",
       "    <tr>\n",
       "      <th>899998</th>\n",
       "      <td>1</td>\n",
       "      <td>I can't say much about this...just that it's a...</td>\n",
       "    </tr>\n",
       "    <tr>\n",
       "      <th>899999</th>\n",
       "      <td>2</td>\n",
       "      <td>let me start out by saying that slipknot is so...</td>\n",
       "    </tr>\n",
       "  </tbody>\n",
       "</table>\n",
       "<p>900000 rows × 2 columns</p>\n",
       "</div>"
      ],
      "text/plain": [
       "        class                                        review_text\n",
       "0           2  I got this toy a couple of days ago and I ABSO...\n",
       "1           2  Though lyrically the overall feel of this reco...\n",
       "2           2  I have been looking for an anthology of outsta...\n",
       "3           1  I tried/own both the pink and the orangish col...\n",
       "4           2  Good coffee pot. Hot coffee. 6-8 cups makes a ...\n",
       "...       ...                                                ...\n",
       "899995      1  Innocents, by Cathy Coote, is really a dreadfu...\n",
       "899996      2  Nena really gives us a top-notch album with th...\n",
       "899997      2  Being a humongous Kasey Chambers fan, I hunker...\n",
       "899998      1  I can't say much about this...just that it's a...\n",
       "899999      2  let me start out by saying that slipknot is so...\n",
       "\n",
       "[900000 rows x 2 columns]"
      ]
     },
     "execution_count": 2,
     "metadata": {},
     "output_type": "execute_result"
    }
   ],
   "source": [
    "# We preset data types in advance, to save memory\n",
    "dtypes = {\n",
    "        'class' : 'uint8',\n",
    "        'review_text' : 'str'\n",
    "}\n",
    "train_dataset = pd.read_csv(\"../input/amazon-reviews-clean/clean_amazon_reviews_train.csv\", dtype=dtypes)\n",
    "train_dataset"
   ]
  },
  {
   "cell_type": "code",
   "execution_count": 3,
   "id": "da67a154",
   "metadata": {
    "execution": {
     "iopub.execute_input": "2022-09-24T18:00:49.971834Z",
     "iopub.status.busy": "2022-09-24T18:00:49.971552Z",
     "iopub.status.idle": "2022-09-24T18:00:50.802102Z",
     "shell.execute_reply": "2022-09-24T18:00:50.801098Z"
    },
    "papermill": {
     "duration": 0.841358,
     "end_time": "2022-09-24T18:00:50.804576",
     "exception": false,
     "start_time": "2022-09-24T18:00:49.963218",
     "status": "completed"
    },
    "tags": []
   },
   "outputs": [
    {
     "data": {
      "text/html": [
       "<div>\n",
       "<style scoped>\n",
       "    .dataframe tbody tr th:only-of-type {\n",
       "        vertical-align: middle;\n",
       "    }\n",
       "\n",
       "    .dataframe tbody tr th {\n",
       "        vertical-align: top;\n",
       "    }\n",
       "\n",
       "    .dataframe thead th {\n",
       "        text-align: right;\n",
       "    }\n",
       "</style>\n",
       "<table border=\"1\" class=\"dataframe\">\n",
       "  <thead>\n",
       "    <tr style=\"text-align: right;\">\n",
       "      <th></th>\n",
       "      <th>class</th>\n",
       "      <th>review_text</th>\n",
       "    </tr>\n",
       "  </thead>\n",
       "  <tbody>\n",
       "    <tr>\n",
       "      <th>0</th>\n",
       "      <td>1</td>\n",
       "      <td>This is a good read for sure, but the problem ...</td>\n",
       "    </tr>\n",
       "    <tr>\n",
       "      <th>1</th>\n",
       "      <td>2</td>\n",
       "      <td>I got this as a gift for my 10 year old nephew...</td>\n",
       "    </tr>\n",
       "    <tr>\n",
       "      <th>2</th>\n",
       "      <td>1</td>\n",
       "      <td>According to the author, if you work hard, you...</td>\n",
       "    </tr>\n",
       "    <tr>\n",
       "      <th>3</th>\n",
       "      <td>1</td>\n",
       "      <td>Rambling and pointless, this overhyped tome se...</td>\n",
       "    </tr>\n",
       "    <tr>\n",
       "      <th>4</th>\n",
       "      <td>2</td>\n",
       "      <td>Having read much about the exploits of Octavia...</td>\n",
       "    </tr>\n",
       "    <tr>\n",
       "      <th>...</th>\n",
       "      <td>...</td>\n",
       "      <td>...</td>\n",
       "    </tr>\n",
       "    <tr>\n",
       "      <th>99995</th>\n",
       "      <td>2</td>\n",
       "      <td>The actual title is \"Made in Japan\", not \"2\". ...</td>\n",
       "    </tr>\n",
       "    <tr>\n",
       "      <th>99996</th>\n",
       "      <td>1</td>\n",
       "      <td>I read this book. It was written fairly well b...</td>\n",
       "    </tr>\n",
       "    <tr>\n",
       "      <th>99997</th>\n",
       "      <td>1</td>\n",
       "      <td>I watched this film because I know one of the ...</td>\n",
       "    </tr>\n",
       "    <tr>\n",
       "      <th>99998</th>\n",
       "      <td>1</td>\n",
       "      <td>If there ever was a writer whose entire opus c...</td>\n",
       "    </tr>\n",
       "    <tr>\n",
       "      <th>99999</th>\n",
       "      <td>1</td>\n",
       "      <td>I have owned my Cannon S900 for about five mon...</td>\n",
       "    </tr>\n",
       "  </tbody>\n",
       "</table>\n",
       "<p>100000 rows × 2 columns</p>\n",
       "</div>"
      ],
      "text/plain": [
       "       class                                        review_text\n",
       "0          1  This is a good read for sure, but the problem ...\n",
       "1          2  I got this as a gift for my 10 year old nephew...\n",
       "2          1  According to the author, if you work hard, you...\n",
       "3          1  Rambling and pointless, this overhyped tome se...\n",
       "4          2  Having read much about the exploits of Octavia...\n",
       "...      ...                                                ...\n",
       "99995      2  The actual title is \"Made in Japan\", not \"2\". ...\n",
       "99996      1  I read this book. It was written fairly well b...\n",
       "99997      1  I watched this film because I know one of the ...\n",
       "99998      1  If there ever was a writer whose entire opus c...\n",
       "99999      1  I have owned my Cannon S900 for about five mon...\n",
       "\n",
       "[100000 rows x 2 columns]"
      ]
     },
     "execution_count": 3,
     "metadata": {},
     "output_type": "execute_result"
    }
   ],
   "source": [
    "# We preset data types in advance, to save memory\n",
    "dtypes = {\n",
    "        'class' : 'uint8',\n",
    "        'review_text' : 'str'\n",
    "}\n",
    "test_dataset = pd.read_csv(\"../input/amazon-reviews-clean/clean_amazon_reviews_test.csv\", dtype=dtypes)\n",
    "test_dataset"
   ]
  },
  {
   "cell_type": "markdown",
   "id": "16381701",
   "metadata": {
    "papermill": {
     "duration": 0.007554,
     "end_time": "2022-09-24T18:00:50.820550",
     "exception": false,
     "start_time": "2022-09-24T18:00:50.812996",
     "status": "completed"
    },
    "tags": []
   },
   "source": [
    "## Preliminary steps"
   ]
  },
  {
   "cell_type": "code",
   "execution_count": 4,
   "id": "944c7e6f",
   "metadata": {
    "execution": {
     "iopub.execute_input": "2022-09-24T18:00:50.838937Z",
     "iopub.status.busy": "2022-09-24T18:00:50.837276Z",
     "iopub.status.idle": "2022-09-24T18:00:50.844237Z",
     "shell.execute_reply": "2022-09-24T18:00:50.843351Z"
    },
    "papermill": {
     "duration": 0.018249,
     "end_time": "2022-09-24T18:00:50.846575",
     "exception": false,
     "start_time": "2022-09-24T18:00:50.828326",
     "status": "completed"
    },
    "tags": []
   },
   "outputs": [],
   "source": [
    "class Dictionary(object):\n",
    "    def __init__(self):\n",
    "        self.token2idx = {}\n",
    "        self.idx2token = []\n",
    "\n",
    "    def add_token(self, token):\n",
    "        if token not in self.token2idx:\n",
    "            self.idx2token.append(token)\n",
    "            self.token2idx[token] = len(self.idx2token) - 1\n",
    "        return self.token2idx[token]\n",
    "\n",
    "    def __len__(self):\n",
    "        return len(self.idx2token)"
   ]
  },
  {
   "cell_type": "code",
   "execution_count": 5,
   "id": "b0fd2269",
   "metadata": {
    "execution": {
     "iopub.execute_input": "2022-09-24T18:00:50.863176Z",
     "iopub.status.busy": "2022-09-24T18:00:50.862907Z",
     "iopub.status.idle": "2022-09-24T18:00:55.912475Z",
     "shell.execute_reply": "2022-09-24T18:00:55.910299Z"
    },
    "papermill": {
     "duration": 5.060532,
     "end_time": "2022-09-24T18:00:55.914740",
     "exception": false,
     "start_time": "2022-09-24T18:00:50.854208",
     "status": "completed"
    },
    "tags": []
   },
   "outputs": [
    {
     "name": "stdout",
     "output_type": "stream",
     "text": [
      "Vocabulary: 151 UTF characters\n",
      "Labels: 2 classes\n"
     ]
    }
   ],
   "source": [
    "char_vocab = Dictionary()\n",
    "pad_token = '<pad>' # reserve index 0 for padding\n",
    "unk_token = '<unk>' # reserve index 1 for unknown token\n",
    "pad_index = char_vocab.add_token(pad_token)\n",
    "unk_index = char_vocab.add_token(unk_token)\n",
    "\n",
    "# join all the training sentences in a single string\n",
    "# and obtain the list of different characters with set\n",
    "chars = set(''.join(train_dataset['review_text']))\n",
    "for char in sorted(chars):\n",
    "    char_vocab.add_token(char)\n",
    "print(\"Vocabulary:\", len(char_vocab), \"UTF characters\")\n",
    "\n",
    "class_vocab = Dictionary()\n",
    "# use python set to obtain the list of languages without repetitions\n",
    "classes = set(train_dataset['class'])\n",
    "for c in sorted(classes):\n",
    "    class_vocab.add_token(c)\n",
    "print(\"Labels:\", len(class_vocab), \"classes\")\n"
   ]
  },
  {
   "cell_type": "code",
   "execution_count": 6,
   "id": "ec2dc9f7",
   "metadata": {
    "execution": {
     "iopub.execute_input": "2022-09-24T18:00:55.931128Z",
     "iopub.status.busy": "2022-09-24T18:00:55.930828Z",
     "iopub.status.idle": "2022-09-24T18:02:00.818691Z",
     "shell.execute_reply": "2022-09-24T18:02:00.817607Z"
    },
    "papermill": {
     "duration": 64.907279,
     "end_time": "2022-09-24T18:02:00.829523",
     "exception": false,
     "start_time": "2022-09-24T18:00:55.922244",
     "status": "completed"
    },
    "tags": []
   },
   "outputs": [
    {
     "name": "stdout",
     "output_type": "stream",
     "text": [
      "1 [52 11 82 90 95 11 95 83 84 94]\n"
     ]
    }
   ],
   "source": [
    "#From token or label to index\n",
    "x_train_idx = [np.array([char_vocab.token2idx[c] for c in line]) for line in train_dataset['review_text']]\n",
    "y_train_idx = np.array([class_vocab.token2idx[cl] for cl in train_dataset['class']])\n",
    "print(y_train_idx[0], x_train_idx[0][:10])"
   ]
  },
  {
   "cell_type": "markdown",
   "id": "8676f611",
   "metadata": {
    "papermill": {
     "duration": 0.007848,
     "end_time": "2022-09-24T18:02:00.846994",
     "exception": false,
     "start_time": "2022-09-24T18:02:00.839146",
     "status": "completed"
    },
    "tags": []
   },
   "source": [
    "A validation procedure will be done to find the optimal parameters for the model. Hence, the training dataset is split (0.85 // 0.15):"
   ]
  },
  {
   "cell_type": "code",
   "execution_count": 7,
   "id": "a8671c8b",
   "metadata": {
    "execution": {
     "iopub.execute_input": "2022-09-24T18:02:00.863788Z",
     "iopub.status.busy": "2022-09-24T18:02:00.863477Z",
     "iopub.status.idle": "2022-09-24T18:02:01.480388Z",
     "shell.execute_reply": "2022-09-24T18:02:01.479135Z"
    },
    "papermill": {
     "duration": 0.62826,
     "end_time": "2022-09-24T18:02:01.483195",
     "exception": false,
     "start_time": "2022-09-24T18:02:00.854935",
     "status": "completed"
    },
    "tags": []
   },
   "outputs": [
    {
     "name": "stdout",
     "output_type": "stream",
     "text": [
      "765000 training samples\n",
      "135000 validation samples\n"
     ]
    }
   ],
   "source": [
    "x_train, x_val, y_train, y_val = train_test_split(x_train_idx, y_train_idx, test_size=0.15, random_state=seed)\n",
    "train_data = [(x, y) for x, y in zip(x_train, y_train)]\n",
    "val_data = [(x, y) for x, y in zip(x_val, y_val)]\n",
    "print(len(train_data), \"training samples\")\n",
    "print(len(val_data), \"validation samples\")"
   ]
  },
  {
   "cell_type": "markdown",
   "id": "1a9ff504",
   "metadata": {
    "papermill": {
     "duration": 0.007411,
     "end_time": "2022-09-24T18:02:01.498600",
     "exception": false,
     "start_time": "2022-09-24T18:02:01.491189",
     "status": "completed"
    },
    "tags": []
   },
   "source": [
    "## Model definition"
   ]
  },
  {
   "cell_type": "markdown",
   "id": "d036e8d1",
   "metadata": {
    "papermill": {
     "duration": 0.007411,
     "end_time": "2022-09-24T18:02:01.513367",
     "exception": false,
     "start_time": "2022-09-24T18:02:01.505956",
     "status": "completed"
    },
    "tags": []
   },
   "source": [
    "The necessary functions for applying a LSTM model are defined next."
   ]
  },
  {
   "cell_type": "code",
   "execution_count": 8,
   "id": "84f97f2f",
   "metadata": {
    "execution": {
     "iopub.execute_input": "2022-09-24T18:02:01.530133Z",
     "iopub.status.busy": "2022-09-24T18:02:01.529232Z",
     "iopub.status.idle": "2022-09-24T18:02:01.537178Z",
     "shell.execute_reply": "2022-09-24T18:02:01.536345Z"
    },
    "papermill": {
     "duration": 0.018414,
     "end_time": "2022-09-24T18:02:01.539111",
     "exception": false,
     "start_time": "2022-09-24T18:02:01.520697",
     "status": "completed"
    },
    "tags": []
   },
   "outputs": [],
   "source": [
    "def batch_generator(data, batch_size, token_size):\n",
    "    \"\"\"Yield elements from data in chunks with a maximum of batch_size sequences and token_size tokens.\"\"\"\n",
    "    minibatch, sequences_so_far, tokens_so_far = [], 0, 0\n",
    "    for ex in data:\n",
    "        seq_len = len(ex[0])\n",
    "        if seq_len > token_size:\n",
    "            ex = (ex[0][:token_size], ex[1])\n",
    "            seq_len = token_size\n",
    "        minibatch.append(ex)\n",
    "        sequences_so_far += 1\n",
    "        tokens_so_far += seq_len\n",
    "        if sequences_so_far == batch_size or tokens_so_far == token_size:\n",
    "            yield minibatch\n",
    "            minibatch, sequences_so_far, tokens_so_far = [], 0, 0\n",
    "        elif sequences_so_far > batch_size or tokens_so_far > token_size:\n",
    "            yield minibatch[:-1]\n",
    "            minibatch, sequences_so_far, tokens_so_far = minibatch[-1:], 1, len(minibatch[-1][0])\n",
    "    if minibatch:\n",
    "        yield minibatch"
   ]
  },
  {
   "cell_type": "code",
   "execution_count": 9,
   "id": "3b4a3214",
   "metadata": {
    "execution": {
     "iopub.execute_input": "2022-09-24T18:02:01.555686Z",
     "iopub.status.busy": "2022-09-24T18:02:01.555027Z",
     "iopub.status.idle": "2022-09-24T18:02:01.561968Z",
     "shell.execute_reply": "2022-09-24T18:02:01.561088Z"
    },
    "papermill": {
     "duration": 0.017198,
     "end_time": "2022-09-24T18:02:01.563740",
     "exception": false,
     "start_time": "2022-09-24T18:02:01.546542",
     "status": "completed"
    },
    "tags": []
   },
   "outputs": [],
   "source": [
    "def pool_generator(data, batch_size, token_size, shuffle=False):\n",
    "    \"\"\"Sort within buckets, then batch, then shuffle batches.\n",
    "    Partitions data into chunks of size 100*token_size, sorts examples within\n",
    "    each chunk, then batch these examples and shuffle the batches.\n",
    "    \"\"\"\n",
    "    for p in batch_generator(data, batch_size * 100, token_size * 100):\n",
    "        p_batch = batch_generator(sorted(p, key=lambda t: len(t[0]), reverse=True), batch_size, token_size)\n",
    "        p_list = list(p_batch)\n",
    "        if shuffle:\n",
    "            for b in random.sample(p_list, len(p_list)):\n",
    "                yield b\n",
    "        else:\n",
    "            for b in p_list:\n",
    "                yield b"
   ]
  },
  {
   "cell_type": "code",
   "execution_count": 10,
   "id": "b55215ad",
   "metadata": {
    "execution": {
     "iopub.execute_input": "2022-09-24T18:02:01.580266Z",
     "iopub.status.busy": "2022-09-24T18:02:01.579516Z",
     "iopub.status.idle": "2022-09-24T18:02:01.589097Z",
     "shell.execute_reply": "2022-09-24T18:02:01.588242Z"
    },
    "papermill": {
     "duration": 0.019842,
     "end_time": "2022-09-24T18:02:01.591001",
     "exception": false,
     "start_time": "2022-09-24T18:02:01.571159",
     "status": "completed"
    },
    "tags": []
   },
   "outputs": [],
   "source": [
    "class CharRNNClassifier(torch.nn.Module):\n",
    "\n",
    "    def __init__(self, input_size, embedding_size, hidden_size, output_size, model=\"lstm\", num_layers=2,\n",
    "                 bidirectional=False, pad_idx=0):\n",
    "        super().__init__()\n",
    "        self.model = model.lower()\n",
    "        self.hidden_size = hidden_size\n",
    "        self.embed = torch.nn.Embedding(input_size, embedding_size, padding_idx=pad_idx)\n",
    "        if self.model == \"gru\":\n",
    "            self.rnn = torch.nn.GRU(embedding_size, hidden_size, num_layers, bidirectional=bidirectional)\n",
    "        elif self.model == \"lstm\":\n",
    "            self.rnn = torch.nn.LSTM(embedding_size, hidden_size, num_layers, bidirectional=bidirectional)\n",
    "        self.h2o = torch.nn.Linear(hidden_size, output_size)\n",
    "        \n",
    "    def forward(self, input, input_lengths):\n",
    "        # T x B\n",
    "        encoded = self.embed(input)\n",
    "        # T x B x E\n",
    "        packed = torch.nn.utils.rnn.pack_padded_sequence(encoded, input_lengths)\n",
    "        # Packed T x B x E\n",
    "        output, _ = self.rnn(packed)\n",
    "        # Packed T x B x H\n",
    "        # Important: you may need to replace '-inf' with the default zero padding for other pooling layers\n",
    "        padded_mean, _ = torch.nn.utils.rnn.pad_packed_sequence(output, padding_value=0.0)\n",
    "        padded_max, _ = torch.nn.utils.rnn.pad_packed_sequence(output, padding_value=float('-inf'))\n",
    "        # T x B x H\n",
    "        max_layer, _ = padded_max.max(dim=0)\n",
    "        mean_layer = padded_mean.mean(dim=0)\n",
    "        \n",
    "        output = max_layer + mean_layer\n",
    "        \n",
    "        # B x H\n",
    "        output = self.h2o(output)\n",
    "        # B x O\n",
    "        return output"
   ]
  },
  {
   "cell_type": "code",
   "execution_count": 11,
   "id": "3361e93f",
   "metadata": {
    "execution": {
     "iopub.execute_input": "2022-09-24T18:02:01.607416Z",
     "iopub.status.busy": "2022-09-24T18:02:01.606666Z",
     "iopub.status.idle": "2022-09-24T18:02:01.671656Z",
     "shell.execute_reply": "2022-09-24T18:02:01.670732Z"
    },
    "papermill": {
     "duration": 0.075205,
     "end_time": "2022-09-24T18:02:01.673604",
     "exception": false,
     "start_time": "2022-09-24T18:02:01.598399",
     "status": "completed"
    },
    "tags": []
   },
   "outputs": [],
   "source": [
    "if not torch.cuda.is_available():\n",
    "    print(\"WARNING: CUDA is not available. Select 'GPU On' on kernel settings\")\n",
    "device = torch.device(\"cuda\")\n",
    "torch.cuda.manual_seed(seed)"
   ]
  },
  {
   "cell_type": "code",
   "execution_count": 12,
   "id": "4aed51df",
   "metadata": {
    "execution": {
     "iopub.execute_input": "2022-09-24T18:02:01.690524Z",
     "iopub.status.busy": "2022-09-24T18:02:01.689754Z",
     "iopub.status.idle": "2022-09-24T18:02:01.694265Z",
     "shell.execute_reply": "2022-09-24T18:02:01.693369Z"
    },
    "papermill": {
     "duration": 0.014844,
     "end_time": "2022-09-24T18:02:01.696207",
     "exception": false,
     "start_time": "2022-09-24T18:02:01.681363",
     "status": "completed"
    },
    "tags": []
   },
   "outputs": [],
   "source": [
    "criterion = torch.nn.CrossEntropyLoss(reduction='sum')"
   ]
  },
  {
   "cell_type": "code",
   "execution_count": 13,
   "id": "52d23385",
   "metadata": {
    "execution": {
     "iopub.execute_input": "2022-09-24T18:02:01.712651Z",
     "iopub.status.busy": "2022-09-24T18:02:01.711900Z",
     "iopub.status.idle": "2022-09-24T18:02:01.721486Z",
     "shell.execute_reply": "2022-09-24T18:02:01.720681Z"
    },
    "papermill": {
     "duration": 0.019892,
     "end_time": "2022-09-24T18:02:01.723421",
     "exception": false,
     "start_time": "2022-09-24T18:02:01.703529",
     "status": "completed"
    },
    "tags": []
   },
   "outputs": [],
   "source": [
    "def train(model, optimizer, data, batch_size, token_size, max_norm, log=False):\n",
    "    model.train()\n",
    "    total_loss = 0\n",
    "    ncorrect = 0\n",
    "    nsentences = 0\n",
    "    ntokens = 0\n",
    "    niterations = 0\n",
    "    for batch in pool_generator(data, batch_size, token_size, shuffle=True):\n",
    "        # Get input and target sequences from batch\n",
    "        X = [torch.from_numpy(d[0]) for d in batch]\n",
    "        X_lengths = [x.numel() for x in X]\n",
    "        ntokens += sum(X_lengths)\n",
    "        X_lengths = torch.tensor(X_lengths, dtype=torch.long)\n",
    "        y = torch.tensor([d[1] for d in batch], dtype=torch.long, device=device)\n",
    "        # Pad the input sequences to create a matrix\n",
    "        X = torch.nn.utils.rnn.pad_sequence(X).to(device)\n",
    "        model.zero_grad()\n",
    "        output = model(X, X_lengths)\n",
    "        loss = criterion(output, y)\n",
    "        loss.backward()\n",
    "        torch.nn.utils.clip_grad_norm_(model.parameters(), max_norm)      # Gradient clipping\n",
    "        optimizer.step()\n",
    "        # Training statistics\n",
    "        total_loss += loss.item()\n",
    "        ncorrect += (torch.max(output, 1)[1] == y).sum().item()\n",
    "        nsentences += y.numel()\n",
    "        niterations += 1\n",
    "    \n",
    "    total_loss = total_loss / nsentences\n",
    "    accuracy = 100 * ncorrect / nsentences\n",
    "    if log:\n",
    "        print(f'Train: wpb={ntokens//niterations}, bsz={nsentences//niterations}, num_updates={niterations}')\n",
    "    return accuracy"
   ]
  },
  {
   "cell_type": "code",
   "execution_count": 14,
   "id": "48c82f9e",
   "metadata": {
    "execution": {
     "iopub.execute_input": "2022-09-24T18:02:01.739661Z",
     "iopub.status.busy": "2022-09-24T18:02:01.739014Z",
     "iopub.status.idle": "2022-09-24T18:02:01.746585Z",
     "shell.execute_reply": "2022-09-24T18:02:01.745751Z"
    },
    "papermill": {
     "duration": 0.017932,
     "end_time": "2022-09-24T18:02:01.748626",
     "exception": false,
     "start_time": "2022-09-24T18:02:01.730694",
     "status": "completed"
    },
    "tags": []
   },
   "outputs": [],
   "source": [
    "def validate(model, data, batch_size, token_size):\n",
    "    model.eval()\n",
    "    # calculate accuracy on validation set\n",
    "    ncorrect = 0\n",
    "    nsentences = 0\n",
    "    with torch.no_grad():\n",
    "        for batch in pool_generator(data, batch_size, token_size):\n",
    "            # Get input and target sequences from batch\n",
    "            X = [torch.from_numpy(d[0]) for d in batch]\n",
    "            X_lengths = torch.tensor([x.numel() for x in X], dtype=torch.long)\n",
    "            y = torch.tensor([d[1] for d in batch], dtype=torch.long, device=device)\n",
    "            # Pad the input sequences to create a matrix\n",
    "            X = torch.nn.utils.rnn.pad_sequence(X).to(device)\n",
    "            answer = model(X, X_lengths)\n",
    "            ncorrect += (torch.max(answer, 1)[1] == y).sum().item()\n",
    "            nsentences += y.numel()\n",
    "        dev_acc = 100 * ncorrect / nsentences\n",
    "    return dev_acc"
   ]
  },
  {
   "cell_type": "markdown",
   "id": "18ff507a",
   "metadata": {
    "papermill": {
     "duration": 0.007407,
     "end_time": "2022-09-24T18:02:01.763332",
     "exception": false,
     "start_time": "2022-09-24T18:02:01.755925",
     "status": "completed"
    },
    "tags": []
   },
   "source": [
    "## Training and validation"
   ]
  },
  {
   "cell_type": "code",
   "execution_count": 15,
   "id": "62ba3e1f",
   "metadata": {
    "execution": {
     "iopub.execute_input": "2022-09-24T18:02:01.779562Z",
     "iopub.status.busy": "2022-09-24T18:02:01.778825Z",
     "iopub.status.idle": "2022-09-24T18:02:01.783210Z",
     "shell.execute_reply": "2022-09-24T18:02:01.782284Z"
    },
    "papermill": {
     "duration": 0.014395,
     "end_time": "2022-09-24T18:02:01.785133",
     "exception": false,
     "start_time": "2022-09-24T18:02:01.770738",
     "status": "completed"
    },
    "tags": []
   },
   "outputs": [],
   "source": [
    "# Definition of hyperparameter values\n",
    "BATCH_SIZE = 256\n",
    "TOKEN_SIZE = 200000\n",
    "EPOCHS = 20\n",
    "MAX_NORM = 1\n",
    "HIDDEN_SIZE = 256\n",
    "EMBEDDING_SIZE = 32"
   ]
  },
  {
   "cell_type": "markdown",
   "id": "1dde0c6d",
   "metadata": {
    "papermill": {
     "duration": 0.007253,
     "end_time": "2022-09-24T18:02:01.799701",
     "exception": false,
     "start_time": "2022-09-24T18:02:01.792448",
     "status": "completed"
    },
    "tags": []
   },
   "source": [
    "**To be done: implement an automated hyperparameter selection procedure**"
   ]
  },
  {
   "cell_type": "code",
   "execution_count": 16,
   "id": "3264d32e",
   "metadata": {
    "execution": {
     "iopub.execute_input": "2022-09-24T18:02:01.816599Z",
     "iopub.status.busy": "2022-09-24T18:02:01.815855Z",
     "iopub.status.idle": "2022-09-24T18:02:01.820926Z",
     "shell.execute_reply": "2022-09-24T18:02:01.820064Z"
    },
    "papermill": {
     "duration": 0.015703,
     "end_time": "2022-09-24T18:02:01.822848",
     "exception": false,
     "start_time": "2022-09-24T18:02:01.807145",
     "status": "completed"
    },
    "tags": []
   },
   "outputs": [],
   "source": [
    "# Assignation of hyperparameter values\n",
    "hidden_size = HIDDEN_SIZE\n",
    "embedding_size = EMBEDDING_SIZE\n",
    "bidirectional = False\n",
    "batch_size, token_size = BATCH_SIZE, TOKEN_SIZE\n",
    "epochs = EPOCHS\n",
    "max_norm = MAX_NORM\n",
    "\n",
    "ntokens = len(char_vocab)\n",
    "nlabels = len(class_vocab)"
   ]
  },
  {
   "cell_type": "code",
   "execution_count": 17,
   "id": "97618811",
   "metadata": {
    "execution": {
     "iopub.execute_input": "2022-09-24T18:02:01.838923Z",
     "iopub.status.busy": "2022-09-24T18:02:01.838664Z",
     "iopub.status.idle": "2022-09-24T18:02:01.843258Z",
     "shell.execute_reply": "2022-09-24T18:02:01.842366Z"
    },
    "papermill": {
     "duration": 0.015032,
     "end_time": "2022-09-24T18:02:01.845182",
     "exception": false,
     "start_time": "2022-09-24T18:02:01.830150",
     "status": "completed"
    },
    "tags": []
   },
   "outputs": [],
   "source": [
    "def get_model():\n",
    "    model = CharRNNClassifier(ntokens, embedding_size, hidden_size, nlabels, bidirectional=bidirectional, pad_idx=pad_index).to(device)\n",
    "    optimizer = torch.optim.Adam(model.parameters())\n",
    "    return model, optimizer"
   ]
  },
  {
   "cell_type": "markdown",
   "id": "4bdb759f",
   "metadata": {
    "papermill": {
     "duration": 0.007346,
     "end_time": "2022-09-24T18:02:01.860075",
     "exception": false,
     "start_time": "2022-09-24T18:02:01.852729",
     "status": "completed"
    },
    "tags": []
   },
   "source": [
    "**Training loop**"
   ]
  },
  {
   "cell_type": "code",
   "execution_count": 18,
   "id": "9e886835",
   "metadata": {
    "execution": {
     "iopub.execute_input": "2022-09-24T18:02:01.876631Z",
     "iopub.status.busy": "2022-09-24T18:02:01.875883Z",
     "iopub.status.idle": "2022-09-24T20:44:43.626611Z",
     "shell.execute_reply": "2022-09-24T20:44:43.625069Z"
    },
    "papermill": {
     "duration": 9761.761436,
     "end_time": "2022-09-24T20:44:43.628842",
     "exception": false,
     "start_time": "2022-09-24T18:02:01.867406",
     "status": "completed"
    },
    "tags": []
   },
   "outputs": [
    {
     "name": "stdout",
     "output_type": "stream",
     "text": [
      "Training cross-validation model for 20 epochs\n",
      "Train: wpb=101707, bsz=250, num_updates=3048\n",
      "| epoch 001 | train accuracy=85.0% (468s)\n",
      "| epoch 001 | valid accuracy=90.4%\n",
      "| epoch 002 | train accuracy=91.4% (954s)\n",
      "| epoch 002 | valid accuracy=92.2%\n",
      "| epoch 003 | train accuracy=92.8% (1441s)\n",
      "| epoch 003 | valid accuracy=92.8%\n",
      "| epoch 004 | train accuracy=93.6% (1933s)\n",
      "| epoch 004 | valid accuracy=92.7%\n",
      "| epoch 005 | train accuracy=94.3% (2418s)\n",
      "| epoch 005 | valid accuracy=93.1%\n",
      "| epoch 006 | train accuracy=94.9% (2907s)\n",
      "| epoch 006 | valid accuracy=93.1%\n",
      "| epoch 007 | train accuracy=95.4% (3392s)\n",
      "| epoch 007 | valid accuracy=92.9%\n",
      "| epoch 008 | train accuracy=95.9% (3880s)\n",
      "| epoch 008 | valid accuracy=93.1%\n",
      "| epoch 009 | train accuracy=96.3% (4368s)\n",
      "| epoch 009 | valid accuracy=93.0%\n",
      "| epoch 010 | train accuracy=96.7% (4855s)\n",
      "| epoch 010 | valid accuracy=92.7%\n",
      "| epoch 011 | train accuracy=97.0% (5346s)\n",
      "| epoch 011 | valid accuracy=92.8%\n",
      "| epoch 012 | train accuracy=97.1% (5833s)\n",
      "| epoch 012 | valid accuracy=92.8%\n",
      "| epoch 013 | train accuracy=97.4% (6323s)\n",
      "| epoch 013 | valid accuracy=92.7%\n",
      "| epoch 014 | train accuracy=97.5% (6808s)\n",
      "| epoch 014 | valid accuracy=92.6%\n",
      "| epoch 015 | train accuracy=97.6% (7296s)\n",
      "| epoch 015 | valid accuracy=92.3%\n",
      "| epoch 016 | train accuracy=97.7% (7782s)\n",
      "| epoch 016 | valid accuracy=92.6%\n",
      "| epoch 017 | train accuracy=97.7% (8269s)\n",
      "| epoch 017 | valid accuracy=92.6%\n",
      "| epoch 018 | train accuracy=97.8% (8760s)\n",
      "| epoch 018 | valid accuracy=92.4%\n",
      "| epoch 019 | train accuracy=97.9% (9246s)\n",
      "| epoch 019 | valid accuracy=92.6%\n",
      "| epoch 020 | train accuracy=97.9% (9736s)\n",
      "| epoch 020 | valid accuracy=92.5%\n"
     ]
    }
   ],
   "source": [
    "train_accuracy = []\n",
    "valid_accuracy = []\n",
    "model, optimizer = get_model()\n",
    "print(f'Training cross-validation model for {epochs} epochs')\n",
    "t0 = time.time()\n",
    "for epoch in range(1, epochs + 1):\n",
    "    acc = train(model, optimizer, train_data, batch_size, token_size, max_norm, log=epoch==1)\n",
    "    train_accuracy.append(acc)\n",
    "    print(f'| epoch {epoch:03d} | train accuracy={acc:.1f}% ({time.time() - t0:.0f}s)')\n",
    "    acc = validate(model, val_data, batch_size, token_size)\n",
    "    valid_accuracy.append(acc)\n",
    "    print(f'| epoch {epoch:03d} | valid accuracy={acc:.1f}%')"
   ]
  },
  {
   "cell_type": "code",
   "execution_count": 19,
   "id": "9365ecdb",
   "metadata": {
    "execution": {
     "iopub.execute_input": "2022-09-24T20:44:43.650351Z",
     "iopub.status.busy": "2022-09-24T20:44:43.648885Z",
     "iopub.status.idle": "2022-09-24T20:44:43.656126Z",
     "shell.execute_reply": "2022-09-24T20:44:43.655310Z"
    },
    "papermill": {
     "duration": 0.019663,
     "end_time": "2022-09-24T20:44:43.658176",
     "exception": false,
     "start_time": "2022-09-24T20:44:43.638513",
     "status": "completed"
    },
    "tags": []
   },
   "outputs": [
    {
     "name": "stdout",
     "output_type": "stream",
     "text": [
      "CharRNNClassifier(\n",
      "  (embed): Embedding(151, 32, padding_idx=0)\n",
      "  (rnn): LSTM(32, 256, num_layers=2)\n",
      "  (h2o): Linear(in_features=256, out_features=2, bias=True)\n",
      ")\n",
      "embed.weight         4832 [151, 32]\n",
      "rnn.weight_ih_l0     32768 [1024, 32]\n",
      "rnn.weight_hh_l0     262144 [1024, 256]\n",
      "rnn.bias_ih_l0       1024 [1024]\n",
      "rnn.bias_hh_l0       1024 [1024]\n",
      "rnn.weight_ih_l1     262144 [1024, 256]\n",
      "rnn.weight_hh_l1     262144 [1024, 256]\n",
      "rnn.bias_ih_l1       1024 [1024]\n",
      "rnn.bias_hh_l1       1024 [1024]\n",
      "h2o.weight           512 [2, 256]\n",
      "h2o.bias             2 [2]\n",
      "TOTAL                828642\n"
     ]
    }
   ],
   "source": [
    "print(model)\n",
    "for name, param in model.named_parameters():\n",
    "    print(f'{name:20} {param.numel()} {list(param.shape)}')\n",
    "print(f'TOTAL                {sum(p.numel() for p in model.parameters())}')"
   ]
  },
  {
   "cell_type": "code",
   "execution_count": 20,
   "id": "f0c26c3e",
   "metadata": {
    "execution": {
     "iopub.execute_input": "2022-09-24T20:44:43.679476Z",
     "iopub.status.busy": "2022-09-24T20:44:43.677984Z",
     "iopub.status.idle": "2022-09-24T20:44:43.909119Z",
     "shell.execute_reply": "2022-09-24T20:44:43.908183Z"
    },
    "papermill": {
     "duration": 0.243393,
     "end_time": "2022-09-24T20:44:43.911109",
     "exception": false,
     "start_time": "2022-09-24T20:44:43.667716",
     "status": "completed"
    },
    "tags": []
   },
   "outputs": [
    {
     "data": {
      "image/png": "[encoded data removed]",
      "text/plain": [
       "<Figure size 432x288 with 1 Axes>"
      ]
     },
     "metadata": {
      "needs_background": "light"
     },
     "output_type": "display_data"
    }
   ],
   "source": [
    "plt.plot(range(1, len(train_accuracy)+1), train_accuracy)\n",
    "plt.plot(range(1, len(valid_accuracy)+1), valid_accuracy)\n",
    "plt.xlabel('epoch')\n",
    "plt.ylabel('Accuracy');"
   ]
  },
  {
   "cell_type": "markdown",
   "id": "2642c41e",
   "metadata": {
    "papermill": {
     "duration": 0.009482,
     "end_time": "2022-09-24T20:44:43.930363",
     "exception": false,
     "start_time": "2022-09-24T20:44:43.920881",
     "status": "completed"
    },
    "tags": []
   },
   "source": [
    "**Training the final model**"
   ]
  },
  {
   "cell_type": "code",
   "execution_count": 21,
   "id": "4e2a1226",
   "metadata": {
    "execution": {
     "iopub.execute_input": "2022-09-24T20:44:43.951459Z",
     "iopub.status.busy": "2022-09-24T20:44:43.950691Z",
     "iopub.status.idle": "2022-09-24T20:44:43.956840Z",
     "shell.execute_reply": "2022-09-24T20:44:43.955881Z"
    },
    "papermill": {
     "duration": 0.018687,
     "end_time": "2022-09-24T20:44:43.958867",
     "exception": false,
     "start_time": "2022-09-24T20:44:43.940180",
     "status": "completed"
    },
    "tags": []
   },
   "outputs": [
    {
     "data": {
      "text/plain": [
       "'def log_mlflow(model):\\n    # Track params and metrics \\n    with mlflow.start_run() as run:\\n        mlflow.set_tag(\"model_name\", name)\\n        mlflow.log_metric(\"accuracy\", acc)\\n        # Save model to artifacts\\n        mlflow.sklearn.log_model(model, name)\\n    mlflow.end_run()'"
      ]
     },
     "execution_count": 21,
     "metadata": {},
     "output_type": "execute_result"
    }
   ],
   "source": [
    "\"\"\"def log_mlflow(model):\n",
    "    # Track params and metrics \n",
    "    with mlflow.start_run() as run:\n",
    "        mlflow.set_tag(\"model_name\", name)\n",
    "        mlflow.log_metric(\"accuracy\", acc)\n",
    "        # Save model to artifacts\n",
    "        mlflow.sklearn.log_model(model, name)\n",
    "    mlflow.end_run()\"\"\""
   ]
  },
  {
   "cell_type": "code",
   "execution_count": 22,
   "id": "378e5b93",
   "metadata": {
    "execution": {
     "iopub.execute_input": "2022-09-24T20:44:43.979947Z",
     "iopub.status.busy": "2022-09-24T20:44:43.979684Z",
     "iopub.status.idle": "2022-09-24T20:44:43.985208Z",
     "shell.execute_reply": "2022-09-24T20:44:43.984363Z"
    },
    "papermill": {
     "duration": 0.018763,
     "end_time": "2022-09-24T20:44:43.987370",
     "exception": false,
     "start_time": "2022-09-24T20:44:43.968607",
     "status": "completed"
    },
    "tags": []
   },
   "outputs": [
    {
     "data": {
      "text/plain": [
       "'from mlflow.models import MetricThreshold\\nthresholds = {\\n    \"accuracy_score\": MetricThreshold(\\n        threshold=0.8,             # accuracy should be >=0.8\\n        min_absolute_change=0.05,  # accuracy should be at least 0.05 greater than baseline model accuracy\\n        min_relative_change=0.05,  # accuracy should be at least 5 percent greater than baseline model accuracy\\n        higher_is_better=True\\n    ),\\n}'"
      ]
     },
     "execution_count": 22,
     "metadata": {},
     "output_type": "execute_result"
    }
   ],
   "source": [
    "\"\"\"from mlflow.models import MetricThreshold\n",
    "thresholds = {\n",
    "    \"accuracy_score\": MetricThreshold(\n",
    "        threshold=0.8,             # accuracy should be >=0.8\n",
    "        min_absolute_change=0.05,  # accuracy should be at least 0.05 greater than baseline model accuracy\n",
    "        min_relative_change=0.05,  # accuracy should be at least 5 percent greater than baseline model accuracy\n",
    "        higher_is_better=True\n",
    "    ),\n",
    "}\"\"\""
   ]
  },
  {
   "cell_type": "code",
   "execution_count": 23,
   "id": "36d91b47",
   "metadata": {
    "execution": {
     "iopub.execute_input": "2022-09-24T20:44:44.008110Z",
     "iopub.status.busy": "2022-09-24T20:44:44.007860Z",
     "iopub.status.idle": "2022-09-24T20:44:44.024137Z",
     "shell.execute_reply": "2022-09-24T20:44:44.023346Z"
    },
    "papermill": {
     "duration": 0.028909,
     "end_time": "2022-09-24T20:44:44.026100",
     "exception": false,
     "start_time": "2022-09-24T20:44:43.997191",
     "status": "completed"
    },
    "tags": []
   },
   "outputs": [
    {
     "name": "stdout",
     "output_type": "stream",
     "text": [
      "Training final model for 20 epochs\n"
     ]
    }
   ],
   "source": [
    "print(f'Training final model for {epochs} epochs')\n",
    "model, optimizer = get_model()\n",
    "t0 = time.time()\n",
    "for epoch in range(1, epochs - 20):\n",
    "    acc = train(model, optimizer, train_data + val_data, batch_size, token_size, max_norm, log=epoch==1)\n",
    "    print(f'| epoch {epoch:03d} | train accuracy={acc:.3f} ({time.time() - t0:.0f}s)')\n",
    "    if epoch == epochs:\n",
    "        print(\"The accuracy of the model is:\", acc)"
   ]
  },
  {
   "cell_type": "code",
   "execution_count": 24,
   "id": "00fa5c55",
   "metadata": {
    "execution": {
     "iopub.execute_input": "2022-09-24T20:44:44.047360Z",
     "iopub.status.busy": "2022-09-24T20:44:44.046613Z",
     "iopub.status.idle": "2022-09-24T20:44:44.089037Z",
     "shell.execute_reply": "2022-09-24T20:44:44.088078Z"
    },
    "papermill": {
     "duration": 0.055466,
     "end_time": "2022-09-24T20:44:44.091512",
     "exception": false,
     "start_time": "2022-09-24T20:44:44.036046",
     "status": "completed"
    },
    "tags": []
   },
   "outputs": [],
   "source": [
    "pickle.dump(model, open(\"model_256_200000_20_1_256_32.sav\", 'wb'))"
   ]
  },
  {
   "cell_type": "markdown",
   "id": "241772eb",
   "metadata": {
    "papermill": {
     "duration": 0.009779,
     "end_time": "2022-09-24T20:44:44.111491",
     "exception": false,
     "start_time": "2022-09-24T20:44:44.101712",
     "status": "completed"
    },
    "tags": []
   },
   "source": [
    "## Testing"
   ]
  },
  {
   "cell_type": "markdown",
   "id": "eee7a9d0",
   "metadata": {
    "papermill": {
     "duration": 0.009709,
     "end_time": "2022-09-24T20:44:44.131161",
     "exception": false,
     "start_time": "2022-09-24T20:44:44.121452",
     "status": "completed"
    },
    "tags": []
   },
   "source": [
    "To be done..."
   ]
  },
  {
   "cell_type": "code",
   "execution_count": null,
   "id": "2d8685d3",
   "metadata": {
    "execution": {
     "iopub.execute_input": "2022-09-21T22:39:54.253243Z",
     "iopub.status.busy": "2022-09-21T22:39:54.252794Z",
     "iopub.status.idle": "2022-09-21T22:39:54.269066Z",
     "shell.execute_reply": "2022-09-21T22:39:54.267882Z",
     "shell.execute_reply.started": "2022-09-21T22:39:54.253203Z"
    },
    "papermill": {
     "duration": 0.00962,
     "end_time": "2022-09-24T20:44:44.151007",
     "exception": false,
     "start_time": "2022-09-24T20:44:44.141387",
     "status": "completed"
    },
    "tags": []
   },
   "outputs": [],
   "source": []
  },
  {
   "cell_type": "code",
   "execution_count": null,
   "id": "a72f1ba5",
   "metadata": {
    "papermill": {
     "duration": 0.009713,
     "end_time": "2022-09-24T20:44:44.170899",
     "exception": false,
     "start_time": "2022-09-24T20:44:44.161186",
     "status": "completed"
    },
    "tags": []
   },
   "outputs": [],
   "source": []
  }
 ],
 "metadata": {
  "kernelspec": {
   "display_name": "Python 3",
   "language": "python",
   "name": "python3"
  },
  "language_info": {
   "codemirror_mode": {
    "name": "ipython",
    "version": 3
   },
   "file_extension": ".py",
   "mimetype": "text/x-python",
   "name": "python",
   "nbconvert_exporter": "python",
   "pygments_lexer": "ipython3",
   "version": "3.7.12"
  },
  "papermill": {
   "default_parameters": {},
   "duration": 9855.759123,
   "end_time": "2022-09-24T20:44:47.817619",
   "environment_variables": {},
   "exception": null,
   "input_path": "__notebook__.ipynb",
   "output_path": "__notebook__.ipynb",
   "parameters": {},
   "start_time": "2022-09-24T18:00:32.058496",
   "version": "2.3.4"
  }
 },
 "nbformat": 4,
 "nbformat_minor": 5
}
